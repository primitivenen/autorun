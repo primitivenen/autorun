{
 "cells": [
  {
   "cell_type": "markdown",
   "metadata": {},
   "source": [
    "## Get sample data ready"
   ]
  },
  {
   "cell_type": "code",
   "execution_count": 1,
   "metadata": {},
   "outputs": [],
   "source": [
    "import pandas as pd\n",
    "pd.set_option('display.max_rows', 100)\n",
    "pd.set_option('display.max_columns', 100)\n",
    "import time\n",
    "from datetime import datetime, date, timedelta\n",
    "import folium\n",
    "import os\n",
    "from sklearn.cluster import DBSCAN\n",
    "from geopy.distance import great_circle\n",
    "from shapely.geometry import MultiPoint\n",
    "import numpy as np\n",
    "import matplotlib.pyplot as plt\n",
    "%matplotlib inline\n",
    "import sys\n",
    "sys.path.insert(0, '/home/stang/user-profile/stats-spark')\n",
    "from utils import load_header_config\n",
    "from veh_stats import get_charged_stats\n",
    "import geocoder\n",
    "from IPython.core.display import display, HTML\n",
    "# display(HTML(\"<style>.container { width:85% !important; }</style>\"))"
   ]
  },
  {
   "cell_type": "code",
   "execution_count": 7,
   "metadata": {},
   "outputs": [
    {
     "name": "stdout",
     "output_type": "stream",
     "text": [
      "(673538, 85)\n",
      "(168689, 85)\n",
      "(123635, 85)\n",
      "(123296, 86)\n",
      "(93079, 86)\n"
     ]
    }
   ],
   "source": [
    "d = 20171201\n",
    "header, configs = load_header_config('aglog_header.csv')\n",
    "df = pd.read_csv('ag_{}.csv'.format(d), header=None, names=header, index_col=False)\n",
    "print(df.shape)\n",
    "df.dropna(subset=['LAT84', 'LON84', 'CCS_CHARGEVOLT', 'CCS_CHARGECUR'], inplace=True)\n",
    "print(df.shape)\n",
    "df = df[df['CCS_CHARGECUR'] > 0]\n",
    "print(df.shape)\n",
    "\n",
    "df['TDATE'] = pd.to_datetime(df['TDATE'], unit='ms', utc=True).dt.tz_convert('Asia/Hong_Kong')\n",
    "df.sort_values(by=['VIN', 'TDATE'], inplace=True)\n",
    "\n",
    "# drop time duplicate\n",
    "df['TDELTA'] = df['TDATE'].diff().fillna(timedelta(seconds=10))\n",
    "df['TDELTA'] = df['TDELTA'].apply(lambda x: x.seconds)\n",
    "df = df[df['TDELTA'] > 5]\n",
    "print(df.shape)\n",
    "\n",
    "# drop LON and LAT duplicate\n",
    "df.drop_duplicates(subset=['LAT84', 'LON84'], inplace=True)\n",
    "print(df.shape)\n",
    "\n",
    "df.reset_index(drop=True, inplace=True)\n",
    "cols = ['VIN', 'TDATE', 'CCS_CHARGEVOLT', 'CCS_CHARGECUR', 'LON84', 'LAT84']\n",
    "df = df[cols]\n",
    "vins = df['VIN'].unique().tolist()\n",
    "df1 = df"
   ]
  },
  {
   "cell_type": "code",
   "execution_count": 4,
   "metadata": {},
   "outputs": [
    {
     "data": {
      "text/html": [
       "<div>\n",
       "<style scoped>\n",
       "    .dataframe tbody tr th:only-of-type {\n",
       "        vertical-align: middle;\n",
       "    }\n",
       "\n",
       "    .dataframe tbody tr th {\n",
       "        vertical-align: top;\n",
       "    }\n",
       "\n",
       "    .dataframe thead th {\n",
       "        text-align: right;\n",
       "    }\n",
       "</style>\n",
       "<table border=\"1\" class=\"dataframe\">\n",
       "  <thead>\n",
       "    <tr style=\"text-align: right;\">\n",
       "      <th></th>\n",
       "      <th>VIN</th>\n",
       "      <th>TDATE</th>\n",
       "      <th>CCS_CHARGEVOLT</th>\n",
       "      <th>CCS_CHARGECUR</th>\n",
       "      <th>LON84</th>\n",
       "      <th>LAT84</th>\n",
       "    </tr>\n",
       "  </thead>\n",
       "  <tbody>\n",
       "    <tr>\n",
       "      <th>0</th>\n",
       "      <td>LMGGN1S50F1000625</td>\n",
       "      <td>2017-12-01 07:48:03+08:00</td>\n",
       "      <td>339.8</td>\n",
       "      <td>5.8</td>\n",
       "      <td>113.492433</td>\n",
       "      <td>23.043819</td>\n",
       "    </tr>\n",
       "    <tr>\n",
       "      <th>1</th>\n",
       "      <td>LMGGN1S50F1000625</td>\n",
       "      <td>2017-12-01 07:48:13+08:00</td>\n",
       "      <td>339.4</td>\n",
       "      <td>5.8</td>\n",
       "      <td>113.492438</td>\n",
       "      <td>23.043830</td>\n",
       "    </tr>\n",
       "    <tr>\n",
       "      <th>2</th>\n",
       "      <td>LMGGN1S50F1000625</td>\n",
       "      <td>2017-12-01 07:48:33+08:00</td>\n",
       "      <td>340.1</td>\n",
       "      <td>5.8</td>\n",
       "      <td>113.492433</td>\n",
       "      <td>23.043822</td>\n",
       "    </tr>\n",
       "    <tr>\n",
       "      <th>3</th>\n",
       "      <td>LMGGN1S50F1000625</td>\n",
       "      <td>2017-12-01 07:48:43+08:00</td>\n",
       "      <td>340.0</td>\n",
       "      <td>5.8</td>\n",
       "      <td>113.492433</td>\n",
       "      <td>23.043816</td>\n",
       "    </tr>\n",
       "    <tr>\n",
       "      <th>4</th>\n",
       "      <td>LMGGN1S50F1000625</td>\n",
       "      <td>2017-12-01 07:48:53+08:00</td>\n",
       "      <td>339.9</td>\n",
       "      <td>5.8</td>\n",
       "      <td>113.492430</td>\n",
       "      <td>23.043816</td>\n",
       "    </tr>\n",
       "  </tbody>\n",
       "</table>\n",
       "</div>"
      ],
      "text/plain": [
       "                 VIN                     TDATE  CCS_CHARGEVOLT  CCS_CHARGECUR  \\\n",
       "0  LMGGN1S50F1000625 2017-12-01 07:48:03+08:00           339.8            5.8   \n",
       "1  LMGGN1S50F1000625 2017-12-01 07:48:13+08:00           339.4            5.8   \n",
       "2  LMGGN1S50F1000625 2017-12-01 07:48:33+08:00           340.1            5.8   \n",
       "3  LMGGN1S50F1000625 2017-12-01 07:48:43+08:00           340.0            5.8   \n",
       "4  LMGGN1S50F1000625 2017-12-01 07:48:53+08:00           339.9            5.8   \n",
       "\n",
       "        LON84      LAT84  \n",
       "0  113.492433  23.043819  \n",
       "1  113.492438  23.043830  \n",
       "2  113.492433  23.043822  \n",
       "3  113.492433  23.043816  \n",
       "4  113.492430  23.043816  "
      ]
     },
     "execution_count": 4,
     "metadata": {},
     "output_type": "execute_result"
    }
   ],
   "source": [
    "df.head()"
   ]
  },
  {
   "cell_type": "code",
   "execution_count": 5,
   "metadata": {},
   "outputs": [],
   "source": [
    "location = geocoder.google([23.043819, 113.492433], method='reverse')"
   ]
  },
  {
   "cell_type": "code",
   "execution_count": 8,
   "metadata": {},
   "outputs": [
    {
     "data": {
      "text/plain": [
       "864.4567616296598"
      ]
     },
     "execution_count": 8,
     "metadata": {},
     "output_type": "execute_result"
    }
   ],
   "source": [
    "newport_ri = (41.49008, -71.312796)\n",
    "cleveland_oh = (41.499498, -81.695391)\n",
    "great_circle(newport_ri, cleveland_oh).km"
   ]
  },
  {
   "cell_type": "markdown",
   "metadata": {},
   "source": [
    "## Geocoding tools"
   ]
  },
  {
   "cell_type": "markdown",
   "metadata": {},
   "source": [
    "For geocoding and reverse geocoding, existing popular python modules are [geocoder](https://github.com/DenisCarriere/geocoder), [reverse-geocoder](https://github.com/thampiman/reverse-geocoder), [geopy](https://github.com/geopy/geopy), etc. Only geocoder is still well maintained up-to-date at Github.\n",
    "\n",
    "geocoder provides mutiple map services to do geocoding, each with country/region, usage, erverse limitation. Given that we want reverse geocoding tool in China, preferably no rate limit, since we are going to do reverse geocoding in batch. Gaode, Baidu, Google, ArcGIS, and Komoot can serve that purpose for us.\n",
    "\n",
    "Among them, \n",
    "0. Both **Gaode** and **Baidu** requires an API key, which requires user has a China cell phone number\n",
    "1. **Google** returns the finest level of information, but it has a rate limit, sometimes it returns None, so we have to do error handling and auto-retry mechanism. \n",
    "2. **Komoot** has no rate limit, but it returns location up to city level (no sublocality or street info)\n",
    "3. **ArcGIS** is similar with Komoot (no sublocality info), and also the results are in Chinese, which could cause a problem processing these strings."
   ]
  },
  {
   "cell_type": "code",
   "execution_count": 2,
   "metadata": {},
   "outputs": [],
   "source": [
    "import geocoder"
   ]
  },
  {
   "cell_type": "code",
   "execution_count": 7,
   "metadata": {},
   "outputs": [
    {
     "name": "stdout",
     "output_type": "stream",
     "text": [
      "广东省广州市海珠区琶洲街道会展东路广州国际会展中心\n",
      "中国\n",
      "广东省\n",
      "广州市\n",
      "海珠区\n",
      "会展东路\n",
      "440105\n",
      "CPU times: user 5.96 ms, sys: 2.81 ms, total: 8.77 ms\n",
      "Wall time: 437 ms\n"
     ]
    }
   ],
   "source": [
    "%%time\n",
    "key='0716e5809437f14e3dd0793a5c6d2b13'\n",
    "g = geocoder.gaode([23.101288, 113.367541], method='reverse', key=key)\n",
    "print(g.address)\n",
    "print(g.country)\n",
    "print(g.state)\n",
    "print(g.city)\n",
    "print(g.district)\n",
    "print(g.street)\n",
    "print(g.adcode)"
   ]
  },
  {
   "cell_type": "code",
   "execution_count": 17,
   "metadata": {},
   "outputs": [
    {
     "name": "stdout",
     "output_type": "stream",
     "text": [
      "China, Guangdong Sheng, Guangzhou Shi, Haizhu Qu, Hui Zhan Dong Lu, 1号琶洲香格里拉大酒店内\n",
      "CN\n",
      "Guangdong Sheng\n",
      "Guangzhou Shi\n",
      "Haizhu Qu\n",
      "Hui Zhan Dong Lu\n",
      "None\n",
      "CPU times: user 24.8 ms, sys: 1.53 ms, total: 26.3 ms\n",
      "Wall time: 161 ms\n"
     ]
    }
   ],
   "source": [
    "%%time\n",
    "g = geocoder.google([23.101288, 113.367541], method='reverse')\n",
    "print(g.address)\n",
    "print(g.country)\n",
    "print(g.state)\n",
    "print(g.city)\n",
    "print(g.sublocality)\n",
    "print(g.street)\n",
    "print(g.postal)"
   ]
  },
  {
   "cell_type": "code",
   "execution_count": 22,
   "metadata": {
    "scrolled": true
   },
   "outputs": [
    {
     "name": "stdout",
     "output_type": "stream",
     "text": [
      "Guangzhou Guangdong, China\n",
      "China\n",
      "Guangdong\n",
      "Guangzhou\n",
      "\n",
      "CPU times: user 23.9 ms, sys: 989 µs, total: 24.8 ms\n",
      "Wall time: 695 ms\n"
     ]
    }
   ],
   "source": [
    "%%time\n",
    "g = geocoder.komoot([23.101288, 113.367541], method='reverse')\n",
    "print(g.address)\n",
    "print(g.country) \n",
    "print(g.state) \n",
    "print(g.city)\n",
    "print(g.street)"
   ]
  },
  {
   "cell_type": "code",
   "execution_count": 24,
   "metadata": {},
   "outputs": [
    {
     "name": "stdout",
     "output_type": "stream",
     "text": [
      "广东省广州市海珠区会展东路\n",
      "CHN\n",
      "广东省\n",
      "广州市\n",
      "\n",
      "CPU times: user 25.5 ms, sys: 2.16 ms, total: 27.7 ms\n",
      "Wall time: 1.57 s\n"
     ]
    }
   ],
   "source": [
    "%%time\n",
    "g = geocoder.arcgis([23.101288, 113.367541], method='reverse')\n",
    "print(g.address)\n",
    "print(g.country)\n",
    "print(g.state)\n",
    "print(g.city)\n",
    "print(g.street)"
   ]
  },
  {
   "cell_type": "markdown",
   "metadata": {},
   "source": [
    "Speed test:\n",
    "1. Google geocoder has lots of none values (limit for standard user is 2500 free calls per day), although it is fast.\n",
    "2. Komoot is about 3 times slower than Google, but the result is complete. 0.7s per row\n",
    "3. ArcGIS is slowest (7 times slower than Google), maybe because of the Chinese characters\n",
    "\n",
    "Naive approach:\n",
    "1. google's paid plan is $0.5 per 1K requests, we have more than 3.5 billion rows, which would cost 1.75 million dollars\n",
    "2. it also has a 100K requests daily cap, which would take about 95 years to process all the records\n",
    "3. is using komoot, which process reverse geocoding at 0.7s per row (although no rate limit), meaning it would take about 70+ years to finish 3.5 billion records.\n",
    "\n",
    "To reduce number of requests:\n",
    "4. But considering most of the coordinates are close, and we only want the information at city level. So if we can find out the bounding box for each city, and also manage to find out whether a coordinate is within the box, then we saved lots of geocoding requests.\n",
    "5. Another approach is we know that there are only limited number of charging stations in a city, so we can first filter out charging records, then do a clustering based on coordinates, only look up address info for centers of cluster."
   ]
  },
  {
   "cell_type": "raw",
   "metadata": {},
   "source": [
    "def rev_geocode(lat, lon):\n",
    "    g = geocoder.komoot([lat, lon], method='reverse')\n",
    "    while not g.ok:\n",
    "        g = geocoder.komoot([lat, lon], method='reverse')\n",
    "    return pd.Series([g.city, g.state])"
   ]
  },
  {
   "cell_type": "raw",
   "metadata": {
    "scrolled": false
   },
   "source": [
    "%%time\n",
    "df = df1.iloc[:10, :].copy()\n",
    "df[['city', 'province']] = df.apply(lambda x: rev_geocode(x['LAT84'], x['LON84']), axis=1)"
   ]
  },
  {
   "cell_type": "markdown",
   "metadata": {},
   "source": [
    "## caching charging station locations"
   ]
  },
  {
   "cell_type": "code",
   "execution_count": 8,
   "metadata": {},
   "outputs": [],
   "source": [
    "header, configs = load_header_config('aglog_header.csv')\n",
    "cols = ['LON84', 'LAT84']\n",
    "def get_df(d):\n",
    "    lonlat_file = 'lonlat_on_charging/lonlat_on_charging_{}.csv'.format(d)\n",
    "    if os.path.exists(lonlat_file):\n",
    "        return pd.read_csv(lonlat_file)\n",
    "    \n",
    "    df = pd.read_csv('ag_{}.csv'.format(d), header=None, names=header, index_col=False)\n",
    "    df.dropna(subset=['LAT84', 'LON84', 'CCS_CHARGEVOLT', 'CCS_CHARGECUR'], inplace=True)\n",
    "    df = df[df['CCS_CHARGECUR'] > 0]\n",
    "    \n",
    "    df.sort_values(by=['VIN', 'TDATE'], inplace=True)\n",
    "    df['TDATE'] = pd.to_datetime(df['TDATE'], unit='ms', utc=True).dt.tz_convert('Asia/Hong_Kong')\n",
    "    df['TDELTA'] = df['TDATE'].diff().fillna(timedelta(seconds=10))\n",
    "    df['TDELTA'] = df['TDELTA'].apply(lambda x: x.seconds)\n",
    "    df = df[(df['TDELTA'] > 5) | (df['TDELTA'] < 0)]\n",
    "    \n",
    "    df = df[cols]\n",
    "    df.to_csv(lonlat_file, index=False)\n",
    "    return df"
   ]
  },
  {
   "cell_type": "code",
   "execution_count": 9,
   "metadata": {},
   "outputs": [],
   "source": [
    "df = pd.DataFrame()\n",
    "start_date = date(2018, 1, 31)\n",
    "n = 31\n",
    "for single_date in (start_date - timedelta(n) for n in range(n)):\n",
    "    d = single_date.strftime(\"%Y%m%d\")\n",
    "    df = pd.concat([df, get_df(d)])\n",
    "df.drop_duplicates(inplace=True)\n",
    "df.reset_index(drop=True, inplace=True)"
   ]
  },
  {
   "cell_type": "code",
   "execution_count": 10,
   "metadata": {},
   "outputs": [
    {
     "data": {
      "text/plain": [
       "(11647585, 2)"
      ]
     },
     "execution_count": 10,
     "metadata": {},
     "output_type": "execute_result"
    }
   ],
   "source": [
    "df.shape"
   ]
  },
  {
   "cell_type": "code",
   "execution_count": 11,
   "metadata": {},
   "outputs": [],
   "source": [
    "df_copy = df"
   ]
  },
  {
   "cell_type": "markdown",
   "metadata": {},
   "source": [
    "________"
   ]
  },
  {
   "cell_type": "code",
   "execution_count": 12,
   "metadata": {},
   "outputs": [],
   "source": [
    "def truncate(f, n):\n",
    "    '''Truncates/pads a float f to n decimal places without rounding'''\n",
    "    s = '{}'.format(f)\n",
    "    if 'e' in s or 'E' in s:\n",
    "        return '{0:.{1}f}'.format(f, n)\n",
    "    i, p, d = s.partition('.')\n",
    "    return '.'.join([i, (d+'0'*n)[:n]])"
   ]
  },
  {
   "cell_type": "code",
   "execution_count": 13,
   "metadata": {},
   "outputs": [
    {
     "data": {
      "text/html": [
       "<div>\n",
       "<style scoped>\n",
       "    .dataframe tbody tr th:only-of-type {\n",
       "        vertical-align: middle;\n",
       "    }\n",
       "\n",
       "    .dataframe tbody tr th {\n",
       "        vertical-align: top;\n",
       "    }\n",
       "\n",
       "    .dataframe thead th {\n",
       "        text-align: right;\n",
       "    }\n",
       "</style>\n",
       "<table border=\"1\" class=\"dataframe\">\n",
       "  <thead>\n",
       "    <tr style=\"text-align: right;\">\n",
       "      <th></th>\n",
       "      <th>LON84</th>\n",
       "      <th>LAT84</th>\n",
       "    </tr>\n",
       "  </thead>\n",
       "  <tbody>\n",
       "    <tr>\n",
       "      <th>0</th>\n",
       "      <td>113.483244</td>\n",
       "      <td>23.055041</td>\n",
       "    </tr>\n",
       "    <tr>\n",
       "      <th>1</th>\n",
       "      <td>113.483247</td>\n",
       "      <td>23.055038</td>\n",
       "    </tr>\n",
       "    <tr>\n",
       "      <th>2</th>\n",
       "      <td>113.483247</td>\n",
       "      <td>23.055041</td>\n",
       "    </tr>\n",
       "    <tr>\n",
       "      <th>3</th>\n",
       "      <td>113.483238</td>\n",
       "      <td>23.055050</td>\n",
       "    </tr>\n",
       "    <tr>\n",
       "      <th>4</th>\n",
       "      <td>113.483241</td>\n",
       "      <td>23.055047</td>\n",
       "    </tr>\n",
       "  </tbody>\n",
       "</table>\n",
       "</div>"
      ],
      "text/plain": [
       "        LON84      LAT84\n",
       "0  113.483244  23.055041\n",
       "1  113.483247  23.055038\n",
       "2  113.483247  23.055041\n",
       "3  113.483238  23.055050\n",
       "4  113.483241  23.055047"
      ]
     },
     "execution_count": 13,
     "metadata": {},
     "output_type": "execute_result"
    }
   ],
   "source": [
    "df.head()"
   ]
  },
  {
   "cell_type": "code",
   "execution_count": 14,
   "metadata": {},
   "outputs": [],
   "source": [
    "df = df_copy.iloc[:1000, :]"
   ]
  },
  {
   "cell_type": "code",
   "execution_count": 15,
   "metadata": {},
   "outputs": [
    {
     "data": {
      "text/html": [
       "<div>\n",
       "<style scoped>\n",
       "    .dataframe tbody tr th:only-of-type {\n",
       "        vertical-align: middle;\n",
       "    }\n",
       "\n",
       "    .dataframe tbody tr th {\n",
       "        vertical-align: top;\n",
       "    }\n",
       "\n",
       "    .dataframe thead th {\n",
       "        text-align: right;\n",
       "    }\n",
       "</style>\n",
       "<table border=\"1\" class=\"dataframe\">\n",
       "  <thead>\n",
       "    <tr style=\"text-align: right;\">\n",
       "      <th></th>\n",
       "      <th>LON84</th>\n",
       "      <th>LAT84</th>\n",
       "    </tr>\n",
       "  </thead>\n",
       "  <tbody>\n",
       "    <tr>\n",
       "      <th>0</th>\n",
       "      <td>113.483244</td>\n",
       "      <td>23.055041</td>\n",
       "    </tr>\n",
       "    <tr>\n",
       "      <th>1</th>\n",
       "      <td>113.483247</td>\n",
       "      <td>23.055038</td>\n",
       "    </tr>\n",
       "    <tr>\n",
       "      <th>2</th>\n",
       "      <td>113.483247</td>\n",
       "      <td>23.055041</td>\n",
       "    </tr>\n",
       "    <tr>\n",
       "      <th>3</th>\n",
       "      <td>113.483238</td>\n",
       "      <td>23.055050</td>\n",
       "    </tr>\n",
       "    <tr>\n",
       "      <th>4</th>\n",
       "      <td>113.483241</td>\n",
       "      <td>23.055047</td>\n",
       "    </tr>\n",
       "  </tbody>\n",
       "</table>\n",
       "</div>"
      ],
      "text/plain": [
       "        LON84      LAT84\n",
       "0  113.483244  23.055041\n",
       "1  113.483247  23.055038\n",
       "2  113.483247  23.055041\n",
       "3  113.483238  23.055050\n",
       "4  113.483241  23.055047"
      ]
     },
     "execution_count": 15,
     "metadata": {},
     "output_type": "execute_result"
    }
   ],
   "source": [
    "df.head()"
   ]
  },
  {
   "cell_type": "code",
   "execution_count": 16,
   "metadata": {},
   "outputs": [
    {
     "name": "stderr",
     "output_type": "stream",
     "text": [
      "/usr/lib64/python2.7/site-packages/pandas/core/indexing.py:357: SettingWithCopyWarning: \n",
      "A value is trying to be set on a copy of a slice from a DataFrame.\n",
      "Try using .loc[row_indexer,col_indexer] = value instead\n",
      "\n",
      "See the caveats in the documentation: http://pandas.pydata.org/pandas-docs/stable/indexing.html#indexing-view-versus-copy\n",
      "  self.obj[key] = _infer_fill_value(value)\n",
      "/usr/lib64/python2.7/site-packages/pandas/core/indexing.py:621: SettingWithCopyWarning: \n",
      "A value is trying to be set on a copy of a slice from a DataFrame.\n",
      "Try using .loc[row_indexer,col_indexer] = value instead\n",
      "\n",
      "See the caveats in the documentation: http://pandas.pydata.org/pandas-docs/stable/indexing.html#indexing-view-versus-copy\n",
      "  self.obj[item_labels[indexer[info_axis]]] = value\n"
     ]
    }
   ],
   "source": [
    "df.loc[:, 'lon'] = df.loc[:, 'LON84'].apply(lambda x: float(truncate(x, 5)))\n",
    "df.loc[:, 'lat'] = df.loc[:, 'LAT84'].apply(lambda x: float(truncate(x, 5)))\n",
    "df = df[['lon', 'lat']].copy()\n",
    "df.drop_duplicates(inplace=True)"
   ]
  },
  {
   "cell_type": "code",
   "execution_count": 17,
   "metadata": {},
   "outputs": [
    {
     "data": {
      "text/plain": [
       "(363, 2)"
      ]
     },
     "execution_count": 17,
     "metadata": {},
     "output_type": "execute_result"
    }
   ],
   "source": [
    "df.shape"
   ]
  },
  {
   "cell_type": "code",
   "execution_count": 18,
   "metadata": {},
   "outputs": [
    {
     "data": {
      "text/html": [
       "<div>\n",
       "<style scoped>\n",
       "    .dataframe tbody tr th:only-of-type {\n",
       "        vertical-align: middle;\n",
       "    }\n",
       "\n",
       "    .dataframe tbody tr th {\n",
       "        vertical-align: top;\n",
       "    }\n",
       "\n",
       "    .dataframe thead th {\n",
       "        text-align: right;\n",
       "    }\n",
       "</style>\n",
       "<table border=\"1\" class=\"dataframe\">\n",
       "  <thead>\n",
       "    <tr style=\"text-align: right;\">\n",
       "      <th></th>\n",
       "      <th>lon</th>\n",
       "      <th>lat</th>\n",
       "    </tr>\n",
       "  </thead>\n",
       "  <tbody>\n",
       "    <tr>\n",
       "      <th>0</th>\n",
       "      <td>113.48324</td>\n",
       "      <td>23.05504</td>\n",
       "    </tr>\n",
       "    <tr>\n",
       "      <th>1</th>\n",
       "      <td>113.48324</td>\n",
       "      <td>23.05503</td>\n",
       "    </tr>\n",
       "    <tr>\n",
       "      <th>3</th>\n",
       "      <td>113.48323</td>\n",
       "      <td>23.05505</td>\n",
       "    </tr>\n",
       "    <tr>\n",
       "      <th>9</th>\n",
       "      <td>113.48324</td>\n",
       "      <td>23.05506</td>\n",
       "    </tr>\n",
       "    <tr>\n",
       "      <th>10</th>\n",
       "      <td>113.48321</td>\n",
       "      <td>23.05504</td>\n",
       "    </tr>\n",
       "  </tbody>\n",
       "</table>\n",
       "</div>"
      ],
      "text/plain": [
       "          lon       lat\n",
       "0   113.48324  23.05504\n",
       "1   113.48324  23.05503\n",
       "3   113.48323  23.05505\n",
       "9   113.48324  23.05506\n",
       "10  113.48321  23.05504"
      ]
     },
     "execution_count": 18,
     "metadata": {},
     "output_type": "execute_result"
    }
   ],
   "source": [
    "df.head()"
   ]
  },
  {
   "cell_type": "code",
   "execution_count": 19,
   "metadata": {},
   "outputs": [],
   "source": [
    "coords = df.as_matrix()"
   ]
  },
  {
   "cell_type": "code",
   "execution_count": 20,
   "metadata": {},
   "outputs": [],
   "source": [
    "meters_per_radian = 6371.0088 * 1000\n",
    "epsilon = 20 / meters_per_radian # use 10 meters to be considered as a cluser\n",
    "db = DBSCAN(eps=epsilon, min_samples=1, algorithm='ball_tree', \n",
    "            metric='haversine', n_jobs=-1).fit(np.radians(coords))"
   ]
  },
  {
   "cell_type": "code",
   "execution_count": 21,
   "metadata": {},
   "outputs": [
    {
     "name": "stdout",
     "output_type": "stream",
     "text": [
      "Number of clusters: 4\n"
     ]
    }
   ],
   "source": [
    "cluster_labels = db.labels_\n",
    "num_clusters = len(set(cluster_labels))\n",
    "clusters = pd.Series([coords[cluster_labels == n] for n in range(num_clusters)])\n",
    "print('Number of clusters: {}'.format(num_clusters))\n",
    "df['cluster'] = cluster_labels"
   ]
  },
  {
   "cell_type": "code",
   "execution_count": 22,
   "metadata": {},
   "outputs": [],
   "source": [
    "clusters_copy = clusters"
   ]
  },
  {
   "cell_type": "code",
   "execution_count": 23,
   "metadata": {},
   "outputs": [],
   "source": [
    "def get_centroid(cluster):\n",
    "    p = MultiPoint(cluster)\n",
    "    return p.centroid.x, p.centroid.y\n",
    "centroids = clusters.map(get_centroid)\n",
    "centroids_backup = centroids"
   ]
  },
  {
   "cell_type": "markdown",
   "metadata": {},
   "source": [
    "____"
   ]
  },
  {
   "cell_type": "code",
   "execution_count": 24,
   "metadata": {
    "scrolled": true
   },
   "outputs": [
    {
     "data": {
      "text/plain": [
       "array([[113.27038,  23.13552],\n",
       "       [113.27038,  23.13553],\n",
       "       [113.27038,  23.13554],\n",
       "       [113.27037,  23.13553],\n",
       "       [113.27036,  23.13553],\n",
       "       [113.27035,  23.13552],\n",
       "       [113.27035,  23.13553]])"
      ]
     },
     "execution_count": 24,
     "metadata": {},
     "output_type": "execute_result"
    }
   ],
   "source": [
    "clusters[1]"
   ]
  },
  {
   "cell_type": "code",
   "execution_count": 25,
   "metadata": {},
   "outputs": [
    {
     "data": {
      "text/plain": [
       "3.3655970613725232"
      ]
     },
     "execution_count": 25,
     "metadata": {},
     "output_type": "execute_result"
    }
   ],
   "source": [
    "a = clusters[1][0]\n",
    "b = clusters[1][6]\n",
    "great_circle(a, b).m"
   ]
  },
  {
   "cell_type": "code",
   "execution_count": 26,
   "metadata": {},
   "outputs": [
    {
     "data": {
      "text/plain": [
       "lat     23.135529\n",
       "lon    113.270367\n",
       "Name: 1, dtype: float64"
      ]
     },
     "execution_count": 26,
     "metadata": {},
     "output_type": "execute_result"
    }
   ],
   "source": [
    "lons, lats = zip(*centroids_backup)\n",
    "centroids = pd.DataFrame({'lon':lons, 'lat':lats})\n",
    "centroids.iloc[1, :]"
   ]
  },
  {
   "cell_type": "code",
   "execution_count": 254,
   "metadata": {},
   "outputs": [
    {
     "data": {
      "text/plain": [
       "305.67241848329434"
      ]
     },
     "execution_count": 254,
     "metadata": {},
     "output_type": "execute_result"
    }
   ],
   "source": [
    "great_circle((23.135529, 113.270367), (23.13552, 113.269)).m"
   ]
  },
  {
   "cell_type": "code",
   "execution_count": 255,
   "metadata": {},
   "outputs": [
    {
     "data": {
      "text/plain": [
       "453.3166634783701"
      ]
     },
     "execution_count": 255,
     "metadata": {},
     "output_type": "execute_result"
    }
   ],
   "source": [
    "great_circle((23.136, 113.27), (23.133, 113.273)).m"
   ]
  },
  {
   "cell_type": "code",
   "execution_count": 256,
   "metadata": {},
   "outputs": [
    {
     "data": {
      "text/plain": [
       "array([0.40379938])"
      ]
     },
     "execution_count": 256,
     "metadata": {},
     "output_type": "execute_result"
    }
   ],
   "source": [
    "np.radians([23.136])"
   ]
  },
  {
   "cell_type": "code",
   "execution_count": 27,
   "metadata": {},
   "outputs": [
    {
     "data": {
      "image/png": "[encoded data removed]",
      "text/plain": [
       "<matplotlib.figure.Figure at 0x30a8a90>"
      ]
     },
     "metadata": {},
     "output_type": "display_data"
    }
   ],
   "source": [
    "lons, lats = zip(*clusters[1])\n",
    "temp = pd.DataFrame({'lat': lats, 'lon': lons})\n",
    "fig, ax = plt.subplots(figsize=[12, 10])\n",
    "ax.scatter(temp['lon'], temp['lat'])\n",
    "ax.scatter(113.27119, 23.13413, c='r')\n",
    "# circle = plt.Circle((113.270367, 23.135529), 0.002, color='green', fill=False)\n",
    "# ax.add_artist(circle)\n",
    "plt.xlim(113.27032, 113.27040)\n",
    "plt.ylim(23.135500, 23.135550)\n",
    "plt.show()"
   ]
  },
  {
   "cell_type": "code",
   "execution_count": 28,
   "metadata": {},
   "outputs": [
    {
     "data": {
      "image/png": "[encoded data removed]",
      "text/plain": [
       "<matplotlib.figure.Figure at 0x7236550>"
      ]
     },
     "metadata": {},
     "output_type": "display_data"
    }
   ],
   "source": [
    "fig, ax = plt.subplots(figsize=[12, 8])\n",
    "ax.scatter(centroids['lon'], centroids['lat'])\n",
    "plt.xlim(113.48, 113.5)\n",
    "plt.ylim(23, 23.2)\n",
    "plt.show()"
   ]
  },
  {
   "cell_type": "code",
   "execution_count": 29,
   "metadata": {},
   "outputs": [
    {
     "data": {
      "text/plain": [
       "1.9435803687200175"
      ]
     },
     "execution_count": 29,
     "metadata": {},
     "output_type": "execute_result"
    }
   ],
   "source": [
    "i = 1\n",
    "p = max(clusters[i], key=lambda point: great_circle(point, centroids_backup[i]).m)\n",
    "great_circle(p, centroids_backup[i]).m"
   ]
  },
  {
   "cell_type": "code",
   "execution_count": 30,
   "metadata": {},
   "outputs": [],
   "source": [
    "lons, lats = zip(*centroids_backup)\n",
    "centroids = pd.DataFrame({'lon':lons, 'lat':lats})"
   ]
  },
  {
   "cell_type": "code",
   "execution_count": 31,
   "metadata": {},
   "outputs": [
    {
     "data": {
      "text/html": [
       "<div>\n",
       "<style scoped>\n",
       "    .dataframe tbody tr th:only-of-type {\n",
       "        vertical-align: middle;\n",
       "    }\n",
       "\n",
       "    .dataframe tbody tr th {\n",
       "        vertical-align: top;\n",
       "    }\n",
       "\n",
       "    .dataframe thead th {\n",
       "        text-align: right;\n",
       "    }\n",
       "</style>\n",
       "<table border=\"1\" class=\"dataframe\">\n",
       "  <thead>\n",
       "    <tr style=\"text-align: right;\">\n",
       "      <th></th>\n",
       "      <th>lat</th>\n",
       "      <th>lon</th>\n",
       "    </tr>\n",
       "  </thead>\n",
       "  <tbody>\n",
       "    <tr>\n",
       "      <th>0</th>\n",
       "      <td>23.055051</td>\n",
       "      <td>113.483222</td>\n",
       "    </tr>\n",
       "    <tr>\n",
       "      <th>1</th>\n",
       "      <td>23.135529</td>\n",
       "      <td>113.270367</td>\n",
       "    </tr>\n",
       "    <tr>\n",
       "      <th>2</th>\n",
       "      <td>30.240952</td>\n",
       "      <td>120.171192</td>\n",
       "    </tr>\n",
       "    <tr>\n",
       "      <th>3</th>\n",
       "      <td>23.044017</td>\n",
       "      <td>113.492070</td>\n",
       "    </tr>\n",
       "  </tbody>\n",
       "</table>\n",
       "</div>"
      ],
      "text/plain": [
       "         lat         lon\n",
       "0  23.055051  113.483222\n",
       "1  23.135529  113.270367\n",
       "2  30.240952  120.171192\n",
       "3  23.044017  113.492070"
      ]
     },
     "execution_count": 31,
     "metadata": {},
     "output_type": "execute_result"
    }
   ],
   "source": [
    "centroids.head()"
   ]
  },
  {
   "cell_type": "code",
   "execution_count": 32,
   "metadata": {},
   "outputs": [],
   "source": [
    "def truncate(f, n):\n",
    "    '''Truncates/pads a float f to n decimal places without rounding'''\n",
    "    s = '{}'.format(f)\n",
    "    if 'e' in s or 'E' in s:\n",
    "        return '{0:.{1}f}'.format(f, n)\n",
    "    i, p, d = s.partition('.')\n",
    "    return '.'.join([i, (d+'0'*n)[:n]])"
   ]
  },
  {
   "cell_type": "code",
   "execution_count": 206,
   "metadata": {},
   "outputs": [
    {
     "data": {
      "text/html": [
       "<div>\n",
       "<style scoped>\n",
       "    .dataframe tbody tr th:only-of-type {\n",
       "        vertical-align: middle;\n",
       "    }\n",
       "\n",
       "    .dataframe tbody tr th {\n",
       "        vertical-align: top;\n",
       "    }\n",
       "\n",
       "    .dataframe thead th {\n",
       "        text-align: right;\n",
       "    }\n",
       "</style>\n",
       "<table border=\"1\" class=\"dataframe\">\n",
       "  <thead>\n",
       "    <tr style=\"text-align: right;\">\n",
       "      <th></th>\n",
       "      <th>lat</th>\n",
       "      <th>lon</th>\n",
       "    </tr>\n",
       "  </thead>\n",
       "  <tbody>\n",
       "    <tr>\n",
       "      <th>1714</th>\n",
       "      <td>39.429315</td>\n",
       "      <td>75.902261</td>\n",
       "    </tr>\n",
       "    <tr>\n",
       "      <th>1716</th>\n",
       "      <td>39.429270</td>\n",
       "      <td>75.902616</td>\n",
       "    </tr>\n",
       "    <tr>\n",
       "      <th>2014</th>\n",
       "      <td>39.425670</td>\n",
       "      <td>75.902866</td>\n",
       "    </tr>\n",
       "    <tr>\n",
       "      <th>6300</th>\n",
       "      <td>39.425340</td>\n",
       "      <td>75.903572</td>\n",
       "    </tr>\n",
       "    <tr>\n",
       "      <th>4020</th>\n",
       "      <td>39.427960</td>\n",
       "      <td>75.903894</td>\n",
       "    </tr>\n",
       "  </tbody>\n",
       "</table>\n",
       "</div>"
      ],
      "text/plain": [
       "            lat        lon\n",
       "1714  39.429315  75.902261\n",
       "1716  39.429270  75.902616\n",
       "2014  39.425670  75.902866\n",
       "6300  39.425340  75.903572\n",
       "4020  39.427960  75.903894"
      ]
     },
     "execution_count": 206,
     "metadata": {},
     "output_type": "execute_result"
    }
   ],
   "source": [
    "centroids.sort_values(by=['lon', 'lat']).head()"
   ]
  },
  {
   "cell_type": "code",
   "execution_count": 207,
   "metadata": {},
   "outputs": [
    {
     "data": {
      "text/plain": [
       "(7697, 2)"
      ]
     },
     "execution_count": 207,
     "metadata": {},
     "output_type": "execute_result"
    }
   ],
   "source": [
    "centroids.shape"
   ]
  },
  {
   "cell_type": "code",
   "execution_count": 208,
   "metadata": {},
   "outputs": [
    {
     "data": {
      "text/plain": [
       "(7697, 2)"
      ]
     },
     "execution_count": 208,
     "metadata": {},
     "output_type": "execute_result"
    }
   ],
   "source": [
    "centroids.loc[:, 'lat'] = centroids.loc[:, 'lat'].apply(lambda x: float(truncate(x, 5)))\n",
    "centroids.loc[:, 'lon'] = centroids.loc[:, 'lon'].apply(lambda x: float(truncate(x, 5)))\n",
    "centroids = centroids[['lon', 'lat']].copy()\n",
    "centroids.drop_duplicates(inplace=True)\n",
    "centroids.shape"
   ]
  },
  {
   "cell_type": "code",
   "execution_count": 209,
   "metadata": {},
   "outputs": [
    {
     "data": {
      "text/html": [
       "<div>\n",
       "<style scoped>\n",
       "    .dataframe tbody tr th:only-of-type {\n",
       "        vertical-align: middle;\n",
       "    }\n",
       "\n",
       "    .dataframe tbody tr th {\n",
       "        vertical-align: top;\n",
       "    }\n",
       "\n",
       "    .dataframe thead th {\n",
       "        text-align: right;\n",
       "    }\n",
       "</style>\n",
       "<table border=\"1\" class=\"dataframe\">\n",
       "  <thead>\n",
       "    <tr style=\"text-align: right;\">\n",
       "      <th></th>\n",
       "      <th>lon</th>\n",
       "      <th>lat</th>\n",
       "    </tr>\n",
       "  </thead>\n",
       "  <tbody>\n",
       "    <tr>\n",
       "      <th>0</th>\n",
       "      <td>113.48314</td>\n",
       "      <td>23.05509</td>\n",
       "    </tr>\n",
       "    <tr>\n",
       "      <th>1</th>\n",
       "      <td>113.27119</td>\n",
       "      <td>23.13413</td>\n",
       "    </tr>\n",
       "    <tr>\n",
       "      <th>2</th>\n",
       "      <td>120.17119</td>\n",
       "      <td>30.24095</td>\n",
       "    </tr>\n",
       "    <tr>\n",
       "      <th>3</th>\n",
       "      <td>113.49234</td>\n",
       "      <td>23.04395</td>\n",
       "    </tr>\n",
       "    <tr>\n",
       "      <th>4</th>\n",
       "      <td>113.34049</td>\n",
       "      <td>23.14892</td>\n",
       "    </tr>\n",
       "  </tbody>\n",
       "</table>\n",
       "</div>"
      ],
      "text/plain": [
       "         lon       lat\n",
       "0  113.48314  23.05509\n",
       "1  113.27119  23.13413\n",
       "2  120.17119  30.24095\n",
       "3  113.49234  23.04395\n",
       "4  113.34049  23.14892"
      ]
     },
     "execution_count": 209,
     "metadata": {},
     "output_type": "execute_result"
    }
   ],
   "source": [
    "centroids.head()"
   ]
  },
  {
   "cell_type": "code",
   "execution_count": 210,
   "metadata": {},
   "outputs": [
    {
     "data": {
      "text/html": [
       "<div>\n",
       "<style scoped>\n",
       "    .dataframe tbody tr th:only-of-type {\n",
       "        vertical-align: middle;\n",
       "    }\n",
       "\n",
       "    .dataframe tbody tr th {\n",
       "        vertical-align: top;\n",
       "    }\n",
       "\n",
       "    .dataframe thead th {\n",
       "        text-align: right;\n",
       "    }\n",
       "</style>\n",
       "<table border=\"1\" class=\"dataframe\">\n",
       "  <thead>\n",
       "    <tr style=\"text-align: right;\">\n",
       "      <th></th>\n",
       "      <th>lon</th>\n",
       "      <th>lat</th>\n",
       "    </tr>\n",
       "  </thead>\n",
       "  <tbody>\n",
       "    <tr>\n",
       "      <th>1714</th>\n",
       "      <td>75.90226</td>\n",
       "      <td>39.42931</td>\n",
       "    </tr>\n",
       "    <tr>\n",
       "      <th>1716</th>\n",
       "      <td>75.90261</td>\n",
       "      <td>39.42927</td>\n",
       "    </tr>\n",
       "    <tr>\n",
       "      <th>2014</th>\n",
       "      <td>75.90286</td>\n",
       "      <td>39.42567</td>\n",
       "    </tr>\n",
       "    <tr>\n",
       "      <th>6300</th>\n",
       "      <td>75.90357</td>\n",
       "      <td>39.42534</td>\n",
       "    </tr>\n",
       "    <tr>\n",
       "      <th>4020</th>\n",
       "      <td>75.90389</td>\n",
       "      <td>39.42796</td>\n",
       "    </tr>\n",
       "  </tbody>\n",
       "</table>\n",
       "</div>"
      ],
      "text/plain": [
       "           lon       lat\n",
       "1714  75.90226  39.42931\n",
       "1716  75.90261  39.42927\n",
       "2014  75.90286  39.42567\n",
       "6300  75.90357  39.42534\n",
       "4020  75.90389  39.42796"
      ]
     },
     "execution_count": 210,
     "metadata": {},
     "output_type": "execute_result"
    }
   ],
   "source": [
    "centroids.sort_values(by=['lon', 'lat']).head()"
   ]
  },
  {
   "cell_type": "markdown",
   "metadata": {},
   "source": [
    "## Clustering charging stations"
   ]
  },
  {
   "cell_type": "code",
   "execution_count": 33,
   "metadata": {
    "scrolled": false
   },
   "outputs": [
    {
     "name": "stdout",
     "output_type": "stream",
     "text": [
      "(93079, 6)\n"
     ]
    },
    {
     "data": {
      "text/html": [
       "<div>\n",
       "<style scoped>\n",
       "    .dataframe tbody tr th:only-of-type {\n",
       "        vertical-align: middle;\n",
       "    }\n",
       "\n",
       "    .dataframe tbody tr th {\n",
       "        vertical-align: top;\n",
       "    }\n",
       "\n",
       "    .dataframe thead th {\n",
       "        text-align: right;\n",
       "    }\n",
       "</style>\n",
       "<table border=\"1\" class=\"dataframe\">\n",
       "  <thead>\n",
       "    <tr style=\"text-align: right;\">\n",
       "      <th></th>\n",
       "      <th>VIN</th>\n",
       "      <th>TDATE</th>\n",
       "      <th>CCS_CHARGEVOLT</th>\n",
       "      <th>CCS_CHARGECUR</th>\n",
       "      <th>LON84</th>\n",
       "      <th>LAT84</th>\n",
       "    </tr>\n",
       "  </thead>\n",
       "  <tbody>\n",
       "    <tr>\n",
       "      <th>0</th>\n",
       "      <td>LMGGN1S50F1000625</td>\n",
       "      <td>2017-12-01 07:48:03+08:00</td>\n",
       "      <td>339.8</td>\n",
       "      <td>5.8</td>\n",
       "      <td>113.492433</td>\n",
       "      <td>23.043819</td>\n",
       "    </tr>\n",
       "    <tr>\n",
       "      <th>1</th>\n",
       "      <td>LMGGN1S50F1000625</td>\n",
       "      <td>2017-12-01 07:48:13+08:00</td>\n",
       "      <td>339.4</td>\n",
       "      <td>5.8</td>\n",
       "      <td>113.492438</td>\n",
       "      <td>23.043830</td>\n",
       "    </tr>\n",
       "    <tr>\n",
       "      <th>2</th>\n",
       "      <td>LMGGN1S50F1000625</td>\n",
       "      <td>2017-12-01 07:48:33+08:00</td>\n",
       "      <td>340.1</td>\n",
       "      <td>5.8</td>\n",
       "      <td>113.492433</td>\n",
       "      <td>23.043822</td>\n",
       "    </tr>\n",
       "    <tr>\n",
       "      <th>3</th>\n",
       "      <td>LMGGN1S50F1000625</td>\n",
       "      <td>2017-12-01 07:48:43+08:00</td>\n",
       "      <td>340.0</td>\n",
       "      <td>5.8</td>\n",
       "      <td>113.492433</td>\n",
       "      <td>23.043816</td>\n",
       "    </tr>\n",
       "    <tr>\n",
       "      <th>4</th>\n",
       "      <td>LMGGN1S50F1000625</td>\n",
       "      <td>2017-12-01 07:48:53+08:00</td>\n",
       "      <td>339.9</td>\n",
       "      <td>5.8</td>\n",
       "      <td>113.492430</td>\n",
       "      <td>23.043816</td>\n",
       "    </tr>\n",
       "  </tbody>\n",
       "</table>\n",
       "</div>"
      ],
      "text/plain": [
       "                 VIN                     TDATE  CCS_CHARGEVOLT  CCS_CHARGECUR  \\\n",
       "0  LMGGN1S50F1000625 2017-12-01 07:48:03+08:00           339.8            5.8   \n",
       "1  LMGGN1S50F1000625 2017-12-01 07:48:13+08:00           339.4            5.8   \n",
       "2  LMGGN1S50F1000625 2017-12-01 07:48:33+08:00           340.1            5.8   \n",
       "3  LMGGN1S50F1000625 2017-12-01 07:48:43+08:00           340.0            5.8   \n",
       "4  LMGGN1S50F1000625 2017-12-01 07:48:53+08:00           339.9            5.8   \n",
       "\n",
       "        LON84      LAT84  \n",
       "0  113.492433  23.043819  \n",
       "1  113.492438  23.043830  \n",
       "2  113.492433  23.043822  \n",
       "3  113.492433  23.043816  \n",
       "4  113.492430  23.043816  "
      ]
     },
     "execution_count": 33,
     "metadata": {},
     "output_type": "execute_result"
    }
   ],
   "source": [
    "df = df1\n",
    "print(df.shape)\n",
    "df.head()"
   ]
  },
  {
   "cell_type": "code",
   "execution_count": 34,
   "metadata": {},
   "outputs": [
    {
     "name": "stdout",
     "output_type": "stream",
     "text": [
      "Number of clusters: 152\n",
      "CPU times: user 10.1 s, sys: 149 ms, total: 10.2 s\n",
      "Wall time: 10.2 s\n"
     ]
    }
   ],
   "source": [
    "%%time\n",
    "coords = df.as_matrix(columns=['LAT84', 'LON84'])\n",
    "\n",
    "meters_per_radian = 6371.0088 * 1000\n",
    "epsilon = 20 / meters_per_radian # use 10 meters to be considered as a cluser\n",
    "db = DBSCAN(eps=epsilon, min_samples=1, algorithm='ball_tree', \n",
    "            metric='haversine', n_jobs=-1).fit(np.radians(coords))\n",
    "cluster_labels = db.labels_\n",
    "num_clusters = len(set(cluster_labels))\n",
    "clusters = pd.Series([coords[cluster_labels == n] for n in range(num_clusters)])\n",
    "print('Number of clusters: {}'.format(num_clusters))"
   ]
  },
  {
   "cell_type": "code",
   "execution_count": 35,
   "metadata": {
    "scrolled": true
   },
   "outputs": [
    {
     "data": {
      "text/html": [
       "<div>\n",
       "<style scoped>\n",
       "    .dataframe tbody tr th:only-of-type {\n",
       "        vertical-align: middle;\n",
       "    }\n",
       "\n",
       "    .dataframe tbody tr th {\n",
       "        vertical-align: top;\n",
       "    }\n",
       "\n",
       "    .dataframe thead th {\n",
       "        text-align: right;\n",
       "    }\n",
       "</style>\n",
       "<table border=\"1\" class=\"dataframe\">\n",
       "  <thead>\n",
       "    <tr style=\"text-align: right;\">\n",
       "      <th></th>\n",
       "      <th>VIN</th>\n",
       "      <th>TDATE</th>\n",
       "      <th>CCS_CHARGEVOLT</th>\n",
       "      <th>CCS_CHARGECUR</th>\n",
       "      <th>LON84</th>\n",
       "      <th>LAT84</th>\n",
       "      <th>cluster</th>\n",
       "    </tr>\n",
       "  </thead>\n",
       "  <tbody>\n",
       "    <tr>\n",
       "      <th>0</th>\n",
       "      <td>LMGGN1S50F1000625</td>\n",
       "      <td>2017-12-01 07:48:03+08:00</td>\n",
       "      <td>339.8</td>\n",
       "      <td>5.8</td>\n",
       "      <td>113.492433</td>\n",
       "      <td>23.043819</td>\n",
       "      <td>0</td>\n",
       "    </tr>\n",
       "    <tr>\n",
       "      <th>1</th>\n",
       "      <td>LMGGN1S50F1000625</td>\n",
       "      <td>2017-12-01 07:48:13+08:00</td>\n",
       "      <td>339.4</td>\n",
       "      <td>5.8</td>\n",
       "      <td>113.492438</td>\n",
       "      <td>23.043830</td>\n",
       "      <td>0</td>\n",
       "    </tr>\n",
       "    <tr>\n",
       "      <th>2</th>\n",
       "      <td>LMGGN1S50F1000625</td>\n",
       "      <td>2017-12-01 07:48:33+08:00</td>\n",
       "      <td>340.1</td>\n",
       "      <td>5.8</td>\n",
       "      <td>113.492433</td>\n",
       "      <td>23.043822</td>\n",
       "      <td>0</td>\n",
       "    </tr>\n",
       "    <tr>\n",
       "      <th>3</th>\n",
       "      <td>LMGGN1S50F1000625</td>\n",
       "      <td>2017-12-01 07:48:43+08:00</td>\n",
       "      <td>340.0</td>\n",
       "      <td>5.8</td>\n",
       "      <td>113.492433</td>\n",
       "      <td>23.043816</td>\n",
       "      <td>0</td>\n",
       "    </tr>\n",
       "    <tr>\n",
       "      <th>4</th>\n",
       "      <td>LMGGN1S50F1000625</td>\n",
       "      <td>2017-12-01 07:48:53+08:00</td>\n",
       "      <td>339.9</td>\n",
       "      <td>5.8</td>\n",
       "      <td>113.492430</td>\n",
       "      <td>23.043816</td>\n",
       "      <td>0</td>\n",
       "    </tr>\n",
       "  </tbody>\n",
       "</table>\n",
       "</div>"
      ],
      "text/plain": [
       "                 VIN                     TDATE  CCS_CHARGEVOLT  CCS_CHARGECUR  \\\n",
       "0  LMGGN1S50F1000625 2017-12-01 07:48:03+08:00           339.8            5.8   \n",
       "1  LMGGN1S50F1000625 2017-12-01 07:48:13+08:00           339.4            5.8   \n",
       "2  LMGGN1S50F1000625 2017-12-01 07:48:33+08:00           340.1            5.8   \n",
       "3  LMGGN1S50F1000625 2017-12-01 07:48:43+08:00           340.0            5.8   \n",
       "4  LMGGN1S50F1000625 2017-12-01 07:48:53+08:00           339.9            5.8   \n",
       "\n",
       "        LON84      LAT84  cluster  \n",
       "0  113.492433  23.043819        0  \n",
       "1  113.492438  23.043830        0  \n",
       "2  113.492433  23.043822        0  \n",
       "3  113.492433  23.043816        0  \n",
       "4  113.492430  23.043816        0  "
      ]
     },
     "execution_count": 35,
     "metadata": {},
     "output_type": "execute_result"
    }
   ],
   "source": [
    "df['cluster'] = cluster_labels\n",
    "df.head()"
   ]
  },
  {
   "cell_type": "code",
   "execution_count": 36,
   "metadata": {},
   "outputs": [],
   "source": [
    "def get_centermost_point(cluster):\n",
    "    centroid = (MultiPoint(cluster).centroid.x, MultiPoint(cluster).centroid.y)\n",
    "    centermost_point = min(cluster, key=lambda point: great_circle(point, centroid).m)\n",
    "    return tuple(centermost_point)\n",
    "centermost_points = clusters.map(get_centermost_point)"
   ]
  },
  {
   "cell_type": "code",
   "execution_count": 37,
   "metadata": {},
   "outputs": [],
   "source": [
    "lats, lons = zip(*centermost_points)\n",
    "rep_points = pd.DataFrame({'LON84':lons, 'LAT84':lats})\n",
    "rs = rep_points.apply(lambda row: df[(df['LAT84']==row['LAT84']) & (df['LON84']==row['LON84'])].iloc[0], axis=1)"
   ]
  },
  {
   "cell_type": "code",
   "execution_count": 38,
   "metadata": {},
   "outputs": [
    {
     "data": {
      "image/png": "[encoded data removed]",
      "text/plain": [
       "<matplotlib.figure.Figure at 0x7236810>"
      ]
     },
     "metadata": {},
     "output_type": "display_data"
    }
   ],
   "source": [
    "fig, ax = plt.subplots(figsize=[12, 8])\n",
    "rs_scatter = ax.scatter(rs['LON84'], rs['LAT84'], c='y', edgecolor='None', alpha=0.5, s=800)\n",
    "df_scatter = ax.scatter(df['LON84'], df['LAT84'], c='b', alpha=0.9, s=5) # full dataset\n",
    "ax.set_title('Full data set vs DBSCAN reduced set')\n",
    "ax.set_xlabel('Longitude')\n",
    "ax.set_ylabel('Latitude')\n",
    "ax.legend([df_scatter, rs_scatter], ['Full set', 'Reduced set'], loc='best')\n",
    "plt.show()"
   ]
  },
  {
   "cell_type": "markdown",
   "metadata": {},
   "source": [
    "## Get actual address and group by city"
   ]
  },
  {
   "cell_type": "code",
   "execution_count": 39,
   "metadata": {},
   "outputs": [
    {
     "data": {
      "text/html": [
       "<div>\n",
       "<style scoped>\n",
       "    .dataframe tbody tr th:only-of-type {\n",
       "        vertical-align: middle;\n",
       "    }\n",
       "\n",
       "    .dataframe tbody tr th {\n",
       "        vertical-align: top;\n",
       "    }\n",
       "\n",
       "    .dataframe thead th {\n",
       "        text-align: right;\n",
       "    }\n",
       "</style>\n",
       "<table border=\"1\" class=\"dataframe\">\n",
       "  <thead>\n",
       "    <tr style=\"text-align: right;\">\n",
       "      <th></th>\n",
       "      <th>LAT84</th>\n",
       "      <th>LON84</th>\n",
       "      <th>energy</th>\n",
       "    </tr>\n",
       "  </thead>\n",
       "  <tbody>\n",
       "    <tr>\n",
       "      <th>0</th>\n",
       "      <td>23.043836</td>\n",
       "      <td>113.49245</td>\n",
       "      <td>0.005475</td>\n",
       "    </tr>\n",
       "    <tr>\n",
       "      <th>1</th>\n",
       "      <td>23.043836</td>\n",
       "      <td>113.49245</td>\n",
       "      <td>0.005468</td>\n",
       "    </tr>\n",
       "    <tr>\n",
       "      <th>2</th>\n",
       "      <td>23.043836</td>\n",
       "      <td>113.49245</td>\n",
       "      <td>0.005479</td>\n",
       "    </tr>\n",
       "    <tr>\n",
       "      <th>3</th>\n",
       "      <td>23.043836</td>\n",
       "      <td>113.49245</td>\n",
       "      <td>0.005478</td>\n",
       "    </tr>\n",
       "    <tr>\n",
       "      <th>4</th>\n",
       "      <td>23.043836</td>\n",
       "      <td>113.49245</td>\n",
       "      <td>0.005476</td>\n",
       "    </tr>\n",
       "  </tbody>\n",
       "</table>\n",
       "</div>"
      ],
      "text/plain": [
       "       LAT84      LON84    energy\n",
       "0  23.043836  113.49245  0.005475\n",
       "1  23.043836  113.49245  0.005468\n",
       "2  23.043836  113.49245  0.005479\n",
       "3  23.043836  113.49245  0.005478\n",
       "4  23.043836  113.49245  0.005476"
      ]
     },
     "execution_count": 39,
     "metadata": {},
     "output_type": "execute_result"
    }
   ],
   "source": [
    "# get coordinates of charged location for each row\n",
    "charge_locations = pd.merge(df[['CCS_CHARGEVOLT', 'CCS_CHARGECUR', 'cluster']], \n",
    "                            rs[['LON84', 'LAT84', 'cluster']], how='left', on='cluster')\n",
    "# energy is in unit of kWh\n",
    "charge_locations['energy'] = charge_locations['CCS_CHARGEVOLT'] * charge_locations['CCS_CHARGECUR'] * 10 / 3600 / 1000\n",
    "charge_locations = charge_locations[['LAT84', 'LON84', 'energy']]\n",
    "charge_locations.head()"
   ]
  },
  {
   "cell_type": "code",
   "execution_count": 40,
   "metadata": {
    "scrolled": true
   },
   "outputs": [
    {
     "data": {
      "text/html": [
       "<div>\n",
       "<style scoped>\n",
       "    .dataframe tbody tr th:only-of-type {\n",
       "        vertical-align: middle;\n",
       "    }\n",
       "\n",
       "    .dataframe tbody tr th {\n",
       "        vertical-align: top;\n",
       "    }\n",
       "\n",
       "    .dataframe thead th {\n",
       "        text-align: right;\n",
       "    }\n",
       "</style>\n",
       "<table border=\"1\" class=\"dataframe\">\n",
       "  <thead>\n",
       "    <tr style=\"text-align: right;\">\n",
       "      <th></th>\n",
       "      <th>LAT84</th>\n",
       "      <th>LON84</th>\n",
       "      <th>energy</th>\n",
       "    </tr>\n",
       "  </thead>\n",
       "  <tbody>\n",
       "    <tr>\n",
       "      <th>0</th>\n",
       "      <td>23.041527</td>\n",
       "      <td>113.493241</td>\n",
       "      <td>18.523059</td>\n",
       "    </tr>\n",
       "    <tr>\n",
       "      <th>1</th>\n",
       "      <td>30.622575</td>\n",
       "      <td>114.409208</td>\n",
       "      <td>12.834338</td>\n",
       "    </tr>\n",
       "    <tr>\n",
       "      <th>2</th>\n",
       "      <td>31.309605</td>\n",
       "      <td>121.531502</td>\n",
       "      <td>11.253777</td>\n",
       "    </tr>\n",
       "    <tr>\n",
       "      <th>3</th>\n",
       "      <td>24.966002</td>\n",
       "      <td>102.804877</td>\n",
       "      <td>10.922323</td>\n",
       "    </tr>\n",
       "    <tr>\n",
       "      <th>4</th>\n",
       "      <td>36.566150</td>\n",
       "      <td>114.450161</td>\n",
       "      <td>10.416922</td>\n",
       "    </tr>\n",
       "  </tbody>\n",
       "</table>\n",
       "</div>"
      ],
      "text/plain": [
       "       LAT84       LON84     energy\n",
       "0  23.041527  113.493241  18.523059\n",
       "1  30.622575  114.409208  12.834338\n",
       "2  31.309605  121.531502  11.253777\n",
       "3  24.966002  102.804877  10.922323\n",
       "4  36.566150  114.450161  10.416922"
      ]
     },
     "execution_count": 40,
     "metadata": {},
     "output_type": "execute_result"
    }
   ],
   "source": [
    "# Group by charging station (range of 10 meters)\n",
    "charged_energy_by_station = charge_locations.groupby(['LAT84', 'LON84'], as_index=False)['energy'].sum().\\\n",
    "                            sort_values(by='energy', ascending=False).reset_index(drop=True)\n",
    "charged_energy_by_station.head()"
   ]
  },
  {
   "cell_type": "code",
   "execution_count": 41,
   "metadata": {},
   "outputs": [],
   "source": [
    "# API key for Gaode found here: https://github.com/DenisCarriere/geocoder/blob/master/tests/test_gaode.py\n",
    "# default quota is 2000 times/day\n",
    "def rev_geocode((lat, lon)):\n",
    "    g = geocoder.gaode([lat, lon], method='reverse', key='0716e5809437f14e3dd0793a5c6d2b13')\n",
    "    while not g.ok:\n",
    "        print('retrying..')\n",
    "        time.sleep(5)\n",
    "        g = geocoder.gaode([lat, lon], method='reverse', key='0716e5809437f14e3dd0793a5c6d2b13')\n",
    "    res = [g.housenumber, g.street, g.district, g.city, g.state, g.country, g.adcode, g.address]\n",
    "    return pd.Series(res)"
   ]
  },
  {
   "cell_type": "code",
   "execution_count": 43,
   "metadata": {},
   "outputs": [],
   "source": [
    "dest_file = 'CEBS_{}.csv'.format(d)\n",
    "if os.path.exists(dest_file):\n",
    "    charged_energy_by_station = pd.read_csv(dest_file)\n",
    "else:\n",
    "    fields = ['number', 'street', 'district', 'city', 'province', 'country', 'zipcode', 'address']\n",
    "    %time charged_energy_by_station[fields] = \\\n",
    "        charged_energy_by_station[['LAT84', 'LON84']].apply(rev_geocode, axis=1)\n",
    "    charged_energy_by_station.to_csv(dest_file, encoding='utf-8', index=False)"
   ]
  },
  {
   "cell_type": "code",
   "execution_count": 44,
   "metadata": {
    "scrolled": true
   },
   "outputs": [
    {
     "data": {
      "text/html": [
       "<div>\n",
       "<style scoped>\n",
       "    .dataframe tbody tr th:only-of-type {\n",
       "        vertical-align: middle;\n",
       "    }\n",
       "\n",
       "    .dataframe tbody tr th {\n",
       "        vertical-align: top;\n",
       "    }\n",
       "\n",
       "    .dataframe thead th {\n",
       "        text-align: right;\n",
       "    }\n",
       "</style>\n",
       "<table border=\"1\" class=\"dataframe\">\n",
       "  <thead>\n",
       "    <tr style=\"text-align: right;\">\n",
       "      <th></th>\n",
       "      <th>LAT84</th>\n",
       "      <th>LON84</th>\n",
       "      <th>energy</th>\n",
       "      <th>number</th>\n",
       "      <th>street</th>\n",
       "      <th>district</th>\n",
       "      <th>city</th>\n",
       "      <th>province</th>\n",
       "      <th>country</th>\n",
       "      <th>zipcode</th>\n",
       "      <th>address</th>\n",
       "    </tr>\n",
       "  </thead>\n",
       "  <tbody>\n",
       "    <tr>\n",
       "      <th>0</th>\n",
       "      <td>31.236300</td>\n",
       "      <td>121.257883</td>\n",
       "      <td>26.008773</td>\n",
       "      <td>52号</td>\n",
       "      <td>纪邹路</td>\n",
       "      <td>闵行区</td>\n",
       "      <td>上海市</td>\n",
       "      <td>上海市</td>\n",
       "      <td>中国</td>\n",
       "      <td>310112</td>\n",
       "      <td>上海市闵行区华漕镇纪邹路52号</td>\n",
       "    </tr>\n",
       "    <tr>\n",
       "      <th>1</th>\n",
       "      <td>27.023791</td>\n",
       "      <td>106.028900</td>\n",
       "      <td>19.596938</td>\n",
       "      <td>541-6号</td>\n",
       "      <td>清毕路</td>\n",
       "      <td>黔西县</td>\n",
       "      <td>毕节市</td>\n",
       "      <td>贵州省</td>\n",
       "      <td>中国</td>\n",
       "      <td>520522</td>\n",
       "      <td>贵州省毕节市黔西县杜鹃街道清毕路541-6号</td>\n",
       "    </tr>\n",
       "    <tr>\n",
       "      <th>2</th>\n",
       "      <td>23.385780</td>\n",
       "      <td>113.189741</td>\n",
       "      <td>17.406058</td>\n",
       "      <td>2号</td>\n",
       "      <td>中新大路</td>\n",
       "      <td>花都区</td>\n",
       "      <td>广州市</td>\n",
       "      <td>广东省</td>\n",
       "      <td>中国</td>\n",
       "      <td>440114</td>\n",
       "      <td>广东省广州市花都区新华街道广州百亚照明电气不锈钢工程部</td>\n",
       "    </tr>\n",
       "    <tr>\n",
       "      <th>3</th>\n",
       "      <td>39.202277</td>\n",
       "      <td>117.128594</td>\n",
       "      <td>15.777531</td>\n",
       "      <td>126号</td>\n",
       "      <td>辰旺路</td>\n",
       "      <td>北辰区</td>\n",
       "      <td>天津市</td>\n",
       "      <td>天津市</td>\n",
       "      <td>中国</td>\n",
       "      <td>120113</td>\n",
       "      <td>天津市北辰区天穆镇辰兴路</td>\n",
       "    </tr>\n",
       "    <tr>\n",
       "      <th>4</th>\n",
       "      <td>36.202525</td>\n",
       "      <td>113.116694</td>\n",
       "      <td>15.334080</td>\n",
       "      <td>47号</td>\n",
       "      <td>英雄中路</td>\n",
       "      <td>城区</td>\n",
       "      <td>长治市</td>\n",
       "      <td>山西省</td>\n",
       "      <td>中国</td>\n",
       "      <td>140402</td>\n",
       "      <td>山西省长治市城区太行西街街道财政局家属院(太西一巷)太行公园</td>\n",
       "    </tr>\n",
       "  </tbody>\n",
       "</table>\n",
       "</div>"
      ],
      "text/plain": [
       "       LAT84       LON84     energy  number street district city province  \\\n",
       "0  31.236300  121.257883  26.008773     52号    纪邹路      闵行区  上海市      上海市   \n",
       "1  27.023791  106.028900  19.596938  541-6号    清毕路      黔西县  毕节市      贵州省   \n",
       "2  23.385780  113.189741  17.406058      2号   中新大路      花都区  广州市      广东省   \n",
       "3  39.202277  117.128594  15.777531    126号    辰旺路      北辰区  天津市      天津市   \n",
       "4  36.202525  113.116694  15.334080     47号   英雄中路       城区  长治市      山西省   \n",
       "\n",
       "  country  zipcode                         address  \n",
       "0      中国   310112                 上海市闵行区华漕镇纪邹路52号  \n",
       "1      中国   520522          贵州省毕节市黔西县杜鹃街道清毕路541-6号  \n",
       "2      中国   440114     广东省广州市花都区新华街道广州百亚照明电气不锈钢工程部  \n",
       "3      中国   120113                    天津市北辰区天穆镇辰兴路  \n",
       "4      中国   140402  山西省长治市城区太行西街街道财政局家属院(太西一巷)太行公园  "
      ]
     },
     "execution_count": 44,
     "metadata": {},
     "output_type": "execute_result"
    }
   ],
   "source": [
    "charged_energy_by_station.head()"
   ]
  },
  {
   "cell_type": "code",
   "execution_count": 45,
   "metadata": {
    "scrolled": false
   },
   "outputs": [
    {
     "data": {
      "text/plain": [
       "district  province  city       \n",
       "浦东新区      上海市       上海市            341.616435\n",
       "闵行区       上海市       上海市            208.523961\n",
       "[]        广东省       中山市            202.961573\n",
       "番禺区       广东省       广州市            119.549591\n",
       "宝山区       上海市       上海市            111.661275\n",
       "白云区       广东省       广州市             95.754260\n",
       "嘉定区       上海市       上海市             68.619998\n",
       "海珠区       广东省       广州市             63.774488\n",
       "北辰区       天津市       天津市             55.226902\n",
       "普陀区       上海市       上海市             51.589744\n",
       "天河区       广东省       广州市             49.722924\n",
       "西青区       天津市       天津市             43.328907\n",
       "高青县       山东省       淄博市             43.206149\n",
       "杨浦区       上海市       上海市             42.838468\n",
       "花都区       广东省       广州市             42.823476\n",
       "荔湾区       广东省       广州市             38.982627\n",
       "洪山区       湖北省       武汉市             38.916625\n",
       "[]        广东省       东莞市             37.861916\n",
       "河东区       天津市       天津市             35.629844\n",
       "龙华区       广东省       深圳市             34.145969\n",
       "津南区       天津市       天津市             33.834537\n",
       "黔西县       贵州省       毕节市             32.504990\n",
       "黄埔区       广东省       广州市             32.345803\n",
       "西湖区       浙江省       杭州市             32.326213\n",
       "兴义市       贵州省       黔西南布依族苗族自治州     31.994062\n",
       "崇明区       上海市       上海市             31.641899\n",
       "川汇区       河南省       周口市             31.191924\n",
       "龙岗区       广东省       深圳市             30.681826\n",
       "开阳县       贵州省       贵阳市             30.391699\n",
       "越秀区       广东省       广州市             27.530534\n",
       "青浦区       上海市       上海市             26.673069\n",
       "增城区       广东省       广州市             26.153536\n",
       "城区        山西省       长治市             25.842322\n",
       "松江区       上海市       上海市             25.658979\n",
       "江岸区       湖北省       武汉市             25.141364\n",
       "南沙区       广东省       广州市             23.512562\n",
       "奉贤区       上海市       上海市             23.264845\n",
       "渝北区       重庆市       重庆市             22.868988\n",
       "滨海新区      天津市       天津市             22.574069\n",
       "南开区       天津市       天津市             22.310459\n",
       "即墨区       山东省       青岛市             21.995361\n",
       "南海区       广东省       佛山市             21.881375\n",
       "静安区       上海市       上海市             20.937466\n",
       "环翠区       山东省       威海市             20.502228\n",
       "武昌区       湖北省       武汉市             20.137595\n",
       "禅城区       广东省       佛山市             19.745222\n",
       "东丽区       天津市       天津市             19.650698\n",
       "海曙区       浙江省       宁波市             18.360424\n",
       "宝安区       广东省       深圳市             18.334622\n",
       "新会区       广东省       江门市             17.906999\n",
       "                                      ...    \n",
       "汇川区       贵州省       遵义市              2.140659\n",
       "威信县       云南省       昭通市              2.087763\n",
       "临邑县       山东省       德州市              2.074076\n",
       "宜秀区       安徽省       安庆市              2.014780\n",
       "荆州区       湖北省       荆州市              1.925004\n",
       "岳麓区       湖南省       长沙市              1.919289\n",
       "苏仙区       湖南省       郴州市              1.885444\n",
       "湘潭县       湖南省       湘潭市              1.734245\n",
       "泰山区       山东省       泰安市              1.484247\n",
       "吴中区       江苏省       苏州市              1.447698\n",
       "历下区       山东省       济南市              1.343766\n",
       "海城市       辽宁省       鞍山市              1.281779\n",
       "开平区       河北省       唐山市              1.185404\n",
       "双桥区       河北省       承德市              1.166927\n",
       "永嘉县       浙江省       温州市              1.162250\n",
       "平阳县       浙江省       温州市              1.089433\n",
       "武进区       江苏省       常州市              1.070142\n",
       "莱城区       山东省       莱芜市              1.063104\n",
       "临沭县       山东省       临沂市              1.040379\n",
       "江阴市       江苏省       无锡市              1.017986\n",
       "东乡区       江西省       抚州市              1.007001\n",
       "荣成市       山东省       威海市              1.004621\n",
       "罗源县       福建省       福州市              1.003140\n",
       "黄骅市       河北省       沧州市              0.946265\n",
       "铜山区       江苏省       徐州市              0.935161\n",
       "瀍河回族区     河南省       洛阳市              0.918635\n",
       "西峰区       甘肃省       庆阳市              0.912782\n",
       "临县        山西省       吕梁市              0.892961\n",
       "溧水区       江苏省       南京市              0.880994\n",
       "蓟州区       天津市       天津市              0.844947\n",
       "新华区       河北省       沧州市              0.688080\n",
       "细河区       辽宁省       阜新市              0.683808\n",
       "锡山区       江苏省       无锡市              0.662090\n",
       "微山县       山东省       济宁市              0.637981\n",
       "三河市       河北省       廊坊市              0.541221\n",
       "咸安区       湖北省       咸宁市              0.482166\n",
       "长沙县       湖南省       长沙市              0.394003\n",
       "田家庵区      安徽省       淮南市              0.352681\n",
       "巩义市       河南省       郑州市              0.312936\n",
       "江夏区       湖北省       武汉市              0.288789\n",
       "蜀山区       安徽省       合肥市              0.283883\n",
       "睢阳区       河南省       商丘市              0.242229\n",
       "东港区       山东省       日照市              0.230981\n",
       "连江县       福建省       福州市              0.119366\n",
       "东西湖区      湖北省       武汉市              0.109913\n",
       "东昌府区      山东省       聊城市              0.074916\n",
       "东阿县       山东省       聊城市              0.048922\n",
       "钦南区       广西壮族自治区   钦州市              0.039624\n",
       "茅箭区       湖北省       十堰市              0.023995\n",
       "青州市       山东省       潍坊市              0.016528\n",
       "Name: energy, Length: 367, dtype: float64"
      ]
     },
     "execution_count": 45,
     "metadata": {},
     "output_type": "execute_result"
    }
   ],
   "source": [
    "# Group by city/district/zipcode\n",
    "groupby_cols = ['district', 'province', 'city']\n",
    "charged_energy_by_station.groupby(groupby_cols)['energy'].sum().sort_values(ascending=False)"
   ]
  },
  {
   "cell_type": "markdown",
   "metadata": {},
   "source": [
    "## Visualize on map"
   ]
  },
  {
   "cell_type": "code",
   "execution_count": 48,
   "metadata": {},
   "outputs": [],
   "source": [
    "charged_energy_by_stationergy_by_station_energy_by_station.to_csv('charged_energy_by_station.csv', index=False)"
   ]
  },
  {
   "cell_type": "code",
   "execution_count": 46,
   "metadata": {
    "scrolled": false
   },
   "outputs": [
    {
     "data": {
      "text/html": [
       "<div>\n",
       "<style scoped>\n",
       "    .dataframe tbody tr th:only-of-type {\n",
       "        vertical-align: middle;\n",
       "    }\n",
       "\n",
       "    .dataframe tbody tr th {\n",
       "        vertical-align: top;\n",
       "    }\n",
       "\n",
       "    .dataframe thead th {\n",
       "        text-align: right;\n",
       "    }\n",
       "</style>\n",
       "<table border=\"1\" class=\"dataframe\">\n",
       "  <thead>\n",
       "    <tr style=\"text-align: right;\">\n",
       "      <th></th>\n",
       "      <th>LAT84</th>\n",
       "      <th>LON84</th>\n",
       "      <th>energy</th>\n",
       "      <th>number</th>\n",
       "      <th>street</th>\n",
       "      <th>district</th>\n",
       "      <th>city</th>\n",
       "      <th>province</th>\n",
       "      <th>country</th>\n",
       "      <th>zipcode</th>\n",
       "      <th>address</th>\n",
       "    </tr>\n",
       "  </thead>\n",
       "  <tbody>\n",
       "    <tr>\n",
       "      <th>0</th>\n",
       "      <td>31.236300</td>\n",
       "      <td>121.257883</td>\n",
       "      <td>26.008773</td>\n",
       "      <td>52号</td>\n",
       "      <td>纪邹路</td>\n",
       "      <td>闵行区</td>\n",
       "      <td>上海市</td>\n",
       "      <td>上海市</td>\n",
       "      <td>中国</td>\n",
       "      <td>310112</td>\n",
       "      <td>上海市闵行区华漕镇纪邹路52号</td>\n",
       "    </tr>\n",
       "    <tr>\n",
       "      <th>1</th>\n",
       "      <td>27.023791</td>\n",
       "      <td>106.028900</td>\n",
       "      <td>19.596938</td>\n",
       "      <td>541-6号</td>\n",
       "      <td>清毕路</td>\n",
       "      <td>黔西县</td>\n",
       "      <td>毕节市</td>\n",
       "      <td>贵州省</td>\n",
       "      <td>中国</td>\n",
       "      <td>520522</td>\n",
       "      <td>贵州省毕节市黔西县杜鹃街道清毕路541-6号</td>\n",
       "    </tr>\n",
       "    <tr>\n",
       "      <th>2</th>\n",
       "      <td>23.385780</td>\n",
       "      <td>113.189741</td>\n",
       "      <td>17.406058</td>\n",
       "      <td>2号</td>\n",
       "      <td>中新大路</td>\n",
       "      <td>花都区</td>\n",
       "      <td>广州市</td>\n",
       "      <td>广东省</td>\n",
       "      <td>中国</td>\n",
       "      <td>440114</td>\n",
       "      <td>广东省广州市花都区新华街道广州百亚照明电气不锈钢工程部</td>\n",
       "    </tr>\n",
       "    <tr>\n",
       "      <th>3</th>\n",
       "      <td>39.202277</td>\n",
       "      <td>117.128594</td>\n",
       "      <td>15.777531</td>\n",
       "      <td>126号</td>\n",
       "      <td>辰旺路</td>\n",
       "      <td>北辰区</td>\n",
       "      <td>天津市</td>\n",
       "      <td>天津市</td>\n",
       "      <td>中国</td>\n",
       "      <td>120113</td>\n",
       "      <td>天津市北辰区天穆镇辰兴路</td>\n",
       "    </tr>\n",
       "    <tr>\n",
       "      <th>4</th>\n",
       "      <td>36.202525</td>\n",
       "      <td>113.116694</td>\n",
       "      <td>15.334080</td>\n",
       "      <td>47号</td>\n",
       "      <td>英雄中路</td>\n",
       "      <td>城区</td>\n",
       "      <td>长治市</td>\n",
       "      <td>山西省</td>\n",
       "      <td>中国</td>\n",
       "      <td>140402</td>\n",
       "      <td>山西省长治市城区太行西街街道财政局家属院(太西一巷)太行公园</td>\n",
       "    </tr>\n",
       "  </tbody>\n",
       "</table>\n",
       "</div>"
      ],
      "text/plain": [
       "       LAT84       LON84     energy  number street district city province  \\\n",
       "0  31.236300  121.257883  26.008773     52号    纪邹路      闵行区  上海市      上海市   \n",
       "1  27.023791  106.028900  19.596938  541-6号    清毕路      黔西县  毕节市      贵州省   \n",
       "2  23.385780  113.189741  17.406058      2号   中新大路      花都区  广州市      广东省   \n",
       "3  39.202277  117.128594  15.777531    126号    辰旺路      北辰区  天津市      天津市   \n",
       "4  36.202525  113.116694  15.334080     47号   英雄中路       城区  长治市      山西省   \n",
       "\n",
       "  country  zipcode                         address  \n",
       "0      中国   310112                 上海市闵行区华漕镇纪邹路52号  \n",
       "1      中国   520522          贵州省毕节市黔西县杜鹃街道清毕路541-6号  \n",
       "2      中国   440114     广东省广州市花都区新华街道广州百亚照明电气不锈钢工程部  \n",
       "3      中国   120113                    天津市北辰区天穆镇辰兴路  \n",
       "4      中国   140402  山西省长治市城区太行西街街道财政局家属院(太西一巷)太行公园  "
      ]
     },
     "execution_count": 46,
     "metadata": {},
     "output_type": "execute_result"
    }
   ],
   "source": [
    "charged_energy_by_station.head()"
   ]
  },
  {
   "cell_type": "code",
   "execution_count": 70,
   "metadata": {},
   "outputs": [
    {
     "name": "stdout",
     "output_type": "stream",
     "text": [
      "CPU times: user 21.3 s, sys: 59.1 ms, total: 21.4 s\n",
      "Wall time: 21.3 s\n"
     ]
    }
   ],
   "source": [
    "%%time\n",
    "m = folium.Map(\n",
    "    location=[33.8530, 109.5632], \n",
    "    zoom_start=4.3, \n",
    "#     tiles='Mapbox Bright',\n",
    "#     width=1200,\n",
    "#     height=800,\n",
    ")\n",
    "N = charged_energy_by_station.shape[0]\n",
    "for i in range(N):\n",
    "    lat = charged_energy_by_station['LAT84'].iloc[i]\n",
    "    lon = charged_energy_by_station['LON84'].iloc[i]\n",
    "    energy = charged_energy_by_station['energy'].iloc[i]\n",
    "    message = 'Lat: {:.6f}, Lon: {:.6f}, Consumed Energy: {:.2f} kWh'.format(lat, lon, energy)\n",
    "#     folium.CircleMarker([lat, lon], radius=2).add_to(m)\n",
    "#     folium.Marker()\n",
    "    folium.Circle([lat, lon]).add_to(m)\n",
    "m.save('mymap.html')"
   ]
  },
  {
   "cell_type": "code",
   "execution_count": 2,
   "metadata": {},
   "outputs": [],
   "source": [
    "import pandas as pd"
   ]
  },
  {
   "cell_type": "code",
   "execution_count": 3,
   "metadata": {},
   "outputs": [
    {
     "name": "stdout",
     "output_type": "stream",
     "text": [
      "(755595, 85)\n",
      "(712569, 85)\n",
      "(571605, 85)\n",
      "(567747, 86)\n",
      "(524186, 86)\n"
     ]
    }
   ],
   "source": [
    "d = 20150803\n",
    "header, configs = load_header_config('aglog_header.csv')\n",
    "df = pd.read_csv('ag_{}.csv'.format(d), header=None, names=header, index_col=False)\n",
    "print(df.shape)\n",
    "df.dropna(subset=['LAT84', 'LON84'], inplace=True)\n",
    "print(df.shape)\n",
    "df = df[(df['CCS_CHARGECUR'].isna()) | (df['CCS_CHARGECUR'] < 0.1)]\n",
    "print(df.shape)\n",
    "\n",
    "df['TDATE'] = pd.to_datetime(df['TDATE'], unit='ms', utc=True).dt.tz_convert('Asia/Hong_Kong')\n",
    "df.sort_values(by=['VIN', 'TDATE'], inplace=True)\n",
    "\n",
    "# drop time duplicate\n",
    "df['TDELTA'] = df['TDATE'].diff().fillna(timedelta(seconds=10))\n",
    "df['TDELTA'] = df['TDELTA'].apply(lambda x: x.seconds)\n",
    "df = df[df['TDELTA'] > 5]\n",
    "print(df.shape)\n",
    "\n",
    "# drop LON and LAT duplicate\n",
    "df.drop_duplicates(subset=['LAT84', 'LON84'], inplace=True)\n",
    "print(df.shape)\n",
    "\n",
    "df.reset_index(drop=True, inplace=True)"
   ]
  },
  {
   "cell_type": "code",
   "execution_count": 4,
   "metadata": {},
   "outputs": [
    {
     "data": {
      "text/plain": [
       "270"
      ]
     },
     "execution_count": 4,
     "metadata": {},
     "output_type": "execute_result"
    }
   ],
   "source": [
    "vins = df['VIN'].unique()\n",
    "len(vins)"
   ]
  },
  {
   "cell_type": "code",
   "execution_count": 5,
   "metadata": {},
   "outputs": [
    {
     "data": {
      "text/plain": [
       "(498, 86)"
      ]
     },
     "execution_count": 5,
     "metadata": {},
     "output_type": "execute_result"
    }
   ],
   "source": [
    "vin = 'LMGGN1S5XE1000260'\n",
    "\n",
    "df_single = df[df['VIN'] == vin]\n",
    "\n",
    "df_single.shape"
   ]
  },
  {
   "cell_type": "code",
   "execution_count": 6,
   "metadata": {
    "scrolled": true
   },
   "outputs": [
    {
     "data": {
      "text/html": [
       "<div>\n",
       "<style scoped>\n",
       "    .dataframe tbody tr th:only-of-type {\n",
       "        vertical-align: middle;\n",
       "    }\n",
       "\n",
       "    .dataframe tbody tr th {\n",
       "        vertical-align: top;\n",
       "    }\n",
       "\n",
       "    .dataframe thead th {\n",
       "        text-align: right;\n",
       "    }\n",
       "</style>\n",
       "<table border=\"1\" class=\"dataframe\">\n",
       "  <thead>\n",
       "    <tr style=\"text-align: right;\">\n",
       "      <th></th>\n",
       "      <th>VIN</th>\n",
       "      <th>TDATE</th>\n",
       "      <th>SDATE</th>\n",
       "      <th>BMS_BATTST</th>\n",
       "      <th>BMS_BATTCURR</th>\n",
       "      <th>BMS_BATTVOLT</th>\n",
       "      <th>BMS_INSULATIONST</th>\n",
       "      <th>BMS_INSULATIONRES</th>\n",
       "      <th>BMS_CELLVOLTMAX</th>\n",
       "      <th>BMS_CELLVOLTMIN</th>\n",
       "      <th>BMS_FAILURELVL</th>\n",
       "      <th>BMS_BATTSOC</th>\n",
       "      <th>BMS_BATTTEMPAVG</th>\n",
       "      <th>BMS_BATTTEMPMAX</th>\n",
       "      <th>BMS_BATTTEMPMIN</th>\n",
       "      <th>CCS_CHARGEVOLT</th>\n",
       "      <th>CCS_CHARGECUR</th>\n",
       "      <th>CCS_CHARGERSTARTST</th>\n",
       "      <th>VCU_SYSFAILMODE</th>\n",
       "      <th>MCU_FTM_ACTROTSPD</th>\n",
       "      <th>MCU_FTM_ACTTORQ</th>\n",
       "      <th>MCU_FTM_STMODE</th>\n",
       "      <th>MCU_FTM_MOTORACTTEMP</th>\n",
       "      <th>MCU_FTM_ROTORACTTEMP</th>\n",
       "      <th>MCU_FTM_INVERTERACTTEMP</th>\n",
       "      <th>MCU_FTM_ACTHV_CUR</th>\n",
       "      <th>MCU_FTM_ACTHV_VOLT</th>\n",
       "      <th>MCU_FTM_FAULT_INFO1</th>\n",
       "      <th>MCU_FTM_FAULT_INFO2</th>\n",
       "      <th>MCU_DCDC_FAILST</th>\n",
       "      <th>MCU_DCDC_STMODE</th>\n",
       "      <th>VCU_DCDC_STMODELREQ</th>\n",
       "      <th>BMS_BAT_ERROR_SOC_L</th>\n",
       "      <th>BMS_BAT_ERROR_CELL_V_H</th>\n",
       "      <th>BMS_BAT_ERROR_CELL_V_L</th>\n",
       "      <th>BMS_BAT_ERROR_PACK_SUMV_H</th>\n",
       "      <th>BMS_BAT_ERROR_PACK_SUMV_L</th>\n",
       "      <th>BMS_BAT_ERROR_CELL_T_H</th>\n",
       "      <th>BMS_BAT_ERROR_T_UNBALANCE</th>\n",
       "      <th>MCU_GM_FAILST</th>\n",
       "      <th>MCU_FTM_FAILST</th>\n",
       "      <th>MCU_FTM_FAULT_INFO3</th>\n",
       "      <th>MCU_GM_ACTROTSPD</th>\n",
       "      <th>MCU_GM_ACTTORQ</th>\n",
       "      <th>MCU_GM_STMODE</th>\n",
       "      <th>MCU_GM_MOTORACTTEMP</th>\n",
       "      <th>MCU_GM_ROTORACTTEMP</th>\n",
       "      <th>MCU_GM_INVERTERACTTEMP</th>\n",
       "      <th>MCU_GM_ACTHV_CUR</th>\n",
       "      <th>MCU_GM_ACTHV_VOL</th>\n",
       "      <th>EMS_ENGTORQ</th>\n",
       "      <th>EMS_ENGSPD</th>\n",
       "      <th>EMS_ACCPEDALPST</th>\n",
       "      <th>EMS_BRAKEPEDALST</th>\n",
       "      <th>EMS_ENGWATERTEMP</th>\n",
       "      <th>HCU_GEARFORDSP</th>\n",
       "      <th>HCU_OILPRESSUREWARN</th>\n",
       "      <th>HCU_AVGFUELCONSUMP</th>\n",
       "      <th>HCU_BATCHRGDSP</th>\n",
       "      <th>BCS_VEHSPD</th>\n",
       "      <th>ICM_TOTALODOMETER</th>\n",
       "      <th>BCM_KEYST</th>\n",
       "      <th>HCU_DSTOIL</th>\n",
       "      <th>HCU_DSTBAT</th>\n",
       "      <th>EMS_FAULTRANKSIG</th>\n",
       "      <th>SRS_CRASHOUTPUTST</th>\n",
       "      <th>SRS_DRIVERSEATBELTST</th>\n",
       "      <th>EDC_STERRLVLCOM</th>\n",
       "      <th>EDC_STERRLVLCOMSUP</th>\n",
       "      <th>EDB_STERRLVLHVES</th>\n",
       "      <th>EDG_STERRLVLGEN</th>\n",
       "      <th>EDM_STERRLVLMOT</th>\n",
       "      <th>EDE_STERRLVLENG</th>\n",
       "      <th>EDV_STERRLVLVEH</th>\n",
       "      <th>LON84</th>\n",
       "      <th>LAT84</th>\n",
       "      <th>LON02</th>\n",
       "      <th>LAT02</th>\n",
       "      <th>BCS_ABSFAULTST</th>\n",
       "      <th>BCS_EBDFAULTST</th>\n",
       "      <th>MCU_DCDC_ACTTEMP</th>\n",
       "      <th>BMS_HVILST</th>\n",
       "      <th>HCU_HEVSYSREADYST</th>\n",
       "      <th>BMS_BALANCEST</th>\n",
       "      <th>GPS_HEADING</th>\n",
       "      <th>TDELTA</th>\n",
       "    </tr>\n",
       "  </thead>\n",
       "  <tbody>\n",
       "    <tr>\n",
       "      <th>482610</th>\n",
       "      <td>LMGGN1S5XE1000260</td>\n",
       "      <td>2015-08-03 07:38:10+08:00</td>\n",
       "      <td>20150803</td>\n",
       "      <td>4.0</td>\n",
       "      <td>2.5</td>\n",
       "      <td>338.0</td>\n",
       "      <td>0.0</td>\n",
       "      <td>1022.0</td>\n",
       "      <td>3.26</td>\n",
       "      <td>3.25</td>\n",
       "      <td>0.0</td>\n",
       "      <td>27.7</td>\n",
       "      <td>30.5</td>\n",
       "      <td>31.0</td>\n",
       "      <td>30.0</td>\n",
       "      <td>NaN</td>\n",
       "      <td>NaN</td>\n",
       "      <td>NaN</td>\n",
       "      <td>0.0</td>\n",
       "      <td>0.0</td>\n",
       "      <td>-0.5</td>\n",
       "      <td>4.0</td>\n",
       "      <td>38.0</td>\n",
       "      <td>33.0</td>\n",
       "      <td>29.0</td>\n",
       "      <td>-2.0</td>\n",
       "      <td>336.0</td>\n",
       "      <td>0.0</td>\n",
       "      <td>0.0</td>\n",
       "      <td>0.0</td>\n",
       "      <td>0.0</td>\n",
       "      <td>0.0</td>\n",
       "      <td>0.0</td>\n",
       "      <td>0.0</td>\n",
       "      <td>0.0</td>\n",
       "      <td>0.0</td>\n",
       "      <td>0.0</td>\n",
       "      <td>0.0</td>\n",
       "      <td>0.0</td>\n",
       "      <td>0.0</td>\n",
       "      <td>0.0</td>\n",
       "      <td>0.0</td>\n",
       "      <td>1282.0</td>\n",
       "      <td>-10.0</td>\n",
       "      <td>8.0</td>\n",
       "      <td>38.0</td>\n",
       "      <td>33.0</td>\n",
       "      <td>34.0</td>\n",
       "      <td>-2.0</td>\n",
       "      <td>337.0</td>\n",
       "      <td>21.560</td>\n",
       "      <td>1269.0</td>\n",
       "      <td>0.000</td>\n",
       "      <td>1.0</td>\n",
       "      <td>30.0</td>\n",
       "      <td>15.0</td>\n",
       "      <td>1.0</td>\n",
       "      <td>19.9</td>\n",
       "      <td>0.0</td>\n",
       "      <td>0.00000</td>\n",
       "      <td>6026.0</td>\n",
       "      <td>2.0</td>\n",
       "      <td>110.0</td>\n",
       "      <td>0.0</td>\n",
       "      <td>0.0</td>\n",
       "      <td>0.0</td>\n",
       "      <td>1.0</td>\n",
       "      <td>0.0</td>\n",
       "      <td>0.0</td>\n",
       "      <td>0.0</td>\n",
       "      <td>0.0</td>\n",
       "      <td>0.0</td>\n",
       "      <td>0.0</td>\n",
       "      <td>0.0</td>\n",
       "      <td>113.31102</td>\n",
       "      <td>22.960543</td>\n",
       "      <td>113.31641</td>\n",
       "      <td>22.957851</td>\n",
       "      <td>NaN</td>\n",
       "      <td>NaN</td>\n",
       "      <td>NaN</td>\n",
       "      <td>NaN</td>\n",
       "      <td>NaN</td>\n",
       "      <td>NaN</td>\n",
       "      <td>NaN</td>\n",
       "      <td>51734</td>\n",
       "    </tr>\n",
       "    <tr>\n",
       "      <th>482611</th>\n",
       "      <td>LMGGN1S5XE1000260</td>\n",
       "      <td>2015-08-03 07:38:20+08:00</td>\n",
       "      <td>20150803</td>\n",
       "      <td>4.0</td>\n",
       "      <td>5.0</td>\n",
       "      <td>337.0</td>\n",
       "      <td>0.0</td>\n",
       "      <td>1022.0</td>\n",
       "      <td>3.25</td>\n",
       "      <td>3.24</td>\n",
       "      <td>0.0</td>\n",
       "      <td>27.7</td>\n",
       "      <td>30.5</td>\n",
       "      <td>31.0</td>\n",
       "      <td>30.0</td>\n",
       "      <td>NaN</td>\n",
       "      <td>NaN</td>\n",
       "      <td>NaN</td>\n",
       "      <td>0.0</td>\n",
       "      <td>0.0</td>\n",
       "      <td>-0.5</td>\n",
       "      <td>4.0</td>\n",
       "      <td>36.0</td>\n",
       "      <td>31.0</td>\n",
       "      <td>29.0</td>\n",
       "      <td>1.0</td>\n",
       "      <td>336.0</td>\n",
       "      <td>0.0</td>\n",
       "      <td>0.0</td>\n",
       "      <td>0.0</td>\n",
       "      <td>0.0</td>\n",
       "      <td>0.0</td>\n",
       "      <td>0.0</td>\n",
       "      <td>0.0</td>\n",
       "      <td>0.0</td>\n",
       "      <td>0.0</td>\n",
       "      <td>0.0</td>\n",
       "      <td>0.0</td>\n",
       "      <td>0.0</td>\n",
       "      <td>0.0</td>\n",
       "      <td>0.0</td>\n",
       "      <td>0.0</td>\n",
       "      <td>1325.0</td>\n",
       "      <td>-3.0</td>\n",
       "      <td>8.0</td>\n",
       "      <td>37.0</td>\n",
       "      <td>32.0</td>\n",
       "      <td>34.0</td>\n",
       "      <td>1.0</td>\n",
       "      <td>338.0</td>\n",
       "      <td>20.384</td>\n",
       "      <td>1319.0</td>\n",
       "      <td>0.000</td>\n",
       "      <td>1.0</td>\n",
       "      <td>30.0</td>\n",
       "      <td>15.0</td>\n",
       "      <td>1.0</td>\n",
       "      <td>19.9</td>\n",
       "      <td>0.0</td>\n",
       "      <td>0.00000</td>\n",
       "      <td>6026.0</td>\n",
       "      <td>2.0</td>\n",
       "      <td>110.0</td>\n",
       "      <td>0.0</td>\n",
       "      <td>0.0</td>\n",
       "      <td>0.0</td>\n",
       "      <td>0.0</td>\n",
       "      <td>0.0</td>\n",
       "      <td>0.0</td>\n",
       "      <td>0.0</td>\n",
       "      <td>0.0</td>\n",
       "      <td>0.0</td>\n",
       "      <td>0.0</td>\n",
       "      <td>0.0</td>\n",
       "      <td>113.31111</td>\n",
       "      <td>22.960600</td>\n",
       "      <td>113.31650</td>\n",
       "      <td>22.957910</td>\n",
       "      <td>NaN</td>\n",
       "      <td>NaN</td>\n",
       "      <td>NaN</td>\n",
       "      <td>NaN</td>\n",
       "      <td>NaN</td>\n",
       "      <td>NaN</td>\n",
       "      <td>NaN</td>\n",
       "      <td>10</td>\n",
       "    </tr>\n",
       "    <tr>\n",
       "      <th>482612</th>\n",
       "      <td>LMGGN1S5XE1000260</td>\n",
       "      <td>2015-08-03 07:38:30+08:00</td>\n",
       "      <td>20150803</td>\n",
       "      <td>4.0</td>\n",
       "      <td>16.0</td>\n",
       "      <td>335.0</td>\n",
       "      <td>0.0</td>\n",
       "      <td>1022.0</td>\n",
       "      <td>3.24</td>\n",
       "      <td>3.23</td>\n",
       "      <td>0.0</td>\n",
       "      <td>27.5</td>\n",
       "      <td>30.5</td>\n",
       "      <td>31.0</td>\n",
       "      <td>30.0</td>\n",
       "      <td>NaN</td>\n",
       "      <td>NaN</td>\n",
       "      <td>NaN</td>\n",
       "      <td>0.0</td>\n",
       "      <td>1822.0</td>\n",
       "      <td>17.5</td>\n",
       "      <td>8.0</td>\n",
       "      <td>36.0</td>\n",
       "      <td>31.0</td>\n",
       "      <td>39.0</td>\n",
       "      <td>14.0</td>\n",
       "      <td>334.0</td>\n",
       "      <td>0.0</td>\n",
       "      <td>0.0</td>\n",
       "      <td>0.0</td>\n",
       "      <td>0.0</td>\n",
       "      <td>0.0</td>\n",
       "      <td>0.0</td>\n",
       "      <td>0.0</td>\n",
       "      <td>0.0</td>\n",
       "      <td>0.0</td>\n",
       "      <td>0.0</td>\n",
       "      <td>0.0</td>\n",
       "      <td>0.0</td>\n",
       "      <td>0.0</td>\n",
       "      <td>0.0</td>\n",
       "      <td>0.0</td>\n",
       "      <td>1296.0</td>\n",
       "      <td>-4.0</td>\n",
       "      <td>8.0</td>\n",
       "      <td>38.0</td>\n",
       "      <td>33.0</td>\n",
       "      <td>34.0</td>\n",
       "      <td>12.0</td>\n",
       "      <td>335.0</td>\n",
       "      <td>20.384</td>\n",
       "      <td>1287.0</td>\n",
       "      <td>10.192</td>\n",
       "      <td>0.0</td>\n",
       "      <td>33.0</td>\n",
       "      <td>12.0</td>\n",
       "      <td>1.0</td>\n",
       "      <td>19.9</td>\n",
       "      <td>0.0</td>\n",
       "      <td>23.85000</td>\n",
       "      <td>6026.0</td>\n",
       "      <td>2.0</td>\n",
       "      <td>110.0</td>\n",
       "      <td>0.0</td>\n",
       "      <td>0.0</td>\n",
       "      <td>0.0</td>\n",
       "      <td>0.0</td>\n",
       "      <td>0.0</td>\n",
       "      <td>0.0</td>\n",
       "      <td>0.0</td>\n",
       "      <td>0.0</td>\n",
       "      <td>0.0</td>\n",
       "      <td>0.0</td>\n",
       "      <td>0.0</td>\n",
       "      <td>113.31136</td>\n",
       "      <td>22.960423</td>\n",
       "      <td>113.31675</td>\n",
       "      <td>22.957735</td>\n",
       "      <td>NaN</td>\n",
       "      <td>NaN</td>\n",
       "      <td>NaN</td>\n",
       "      <td>NaN</td>\n",
       "      <td>NaN</td>\n",
       "      <td>NaN</td>\n",
       "      <td>NaN</td>\n",
       "      <td>10</td>\n",
       "    </tr>\n",
       "    <tr>\n",
       "      <th>482613</th>\n",
       "      <td>LMGGN1S5XE1000260</td>\n",
       "      <td>2015-08-03 07:38:43+08:00</td>\n",
       "      <td>20150803</td>\n",
       "      <td>4.0</td>\n",
       "      <td>9.0</td>\n",
       "      <td>335.0</td>\n",
       "      <td>0.0</td>\n",
       "      <td>1022.0</td>\n",
       "      <td>3.24</td>\n",
       "      <td>3.23</td>\n",
       "      <td>0.0</td>\n",
       "      <td>27.4</td>\n",
       "      <td>30.5</td>\n",
       "      <td>31.0</td>\n",
       "      <td>30.0</td>\n",
       "      <td>NaN</td>\n",
       "      <td>NaN</td>\n",
       "      <td>NaN</td>\n",
       "      <td>0.0</td>\n",
       "      <td>2197.0</td>\n",
       "      <td>16.5</td>\n",
       "      <td>8.0</td>\n",
       "      <td>37.0</td>\n",
       "      <td>32.0</td>\n",
       "      <td>35.0</td>\n",
       "      <td>13.0</td>\n",
       "      <td>334.0</td>\n",
       "      <td>0.0</td>\n",
       "      <td>0.0</td>\n",
       "      <td>0.0</td>\n",
       "      <td>0.0</td>\n",
       "      <td>0.0</td>\n",
       "      <td>0.0</td>\n",
       "      <td>0.0</td>\n",
       "      <td>0.0</td>\n",
       "      <td>0.0</td>\n",
       "      <td>0.0</td>\n",
       "      <td>0.0</td>\n",
       "      <td>0.0</td>\n",
       "      <td>0.0</td>\n",
       "      <td>0.0</td>\n",
       "      <td>0.0</td>\n",
       "      <td>1249.0</td>\n",
       "      <td>-3.0</td>\n",
       "      <td>8.0</td>\n",
       "      <td>38.0</td>\n",
       "      <td>33.0</td>\n",
       "      <td>35.0</td>\n",
       "      <td>10.0</td>\n",
       "      <td>334.0</td>\n",
       "      <td>19.600</td>\n",
       "      <td>1230.0</td>\n",
       "      <td>3.920</td>\n",
       "      <td>0.0</td>\n",
       "      <td>36.0</td>\n",
       "      <td>12.0</td>\n",
       "      <td>1.0</td>\n",
       "      <td>14.3</td>\n",
       "      <td>0.0</td>\n",
       "      <td>29.36250</td>\n",
       "      <td>6026.0</td>\n",
       "      <td>2.0</td>\n",
       "      <td>110.0</td>\n",
       "      <td>0.0</td>\n",
       "      <td>0.0</td>\n",
       "      <td>0.0</td>\n",
       "      <td>0.0</td>\n",
       "      <td>0.0</td>\n",
       "      <td>0.0</td>\n",
       "      <td>0.0</td>\n",
       "      <td>0.0</td>\n",
       "      <td>0.0</td>\n",
       "      <td>0.0</td>\n",
       "      <td>0.0</td>\n",
       "      <td>113.31178</td>\n",
       "      <td>22.959570</td>\n",
       "      <td>113.31717</td>\n",
       "      <td>22.956882</td>\n",
       "      <td>NaN</td>\n",
       "      <td>NaN</td>\n",
       "      <td>NaN</td>\n",
       "      <td>NaN</td>\n",
       "      <td>NaN</td>\n",
       "      <td>NaN</td>\n",
       "      <td>NaN</td>\n",
       "      <td>10</td>\n",
       "    </tr>\n",
       "    <tr>\n",
       "      <th>482614</th>\n",
       "      <td>LMGGN1S5XE1000260</td>\n",
       "      <td>2015-08-03 07:38:53+08:00</td>\n",
       "      <td>20150803</td>\n",
       "      <td>4.0</td>\n",
       "      <td>-2.5</td>\n",
       "      <td>337.0</td>\n",
       "      <td>0.0</td>\n",
       "      <td>1022.0</td>\n",
       "      <td>3.25</td>\n",
       "      <td>3.24</td>\n",
       "      <td>0.0</td>\n",
       "      <td>27.4</td>\n",
       "      <td>30.5</td>\n",
       "      <td>31.0</td>\n",
       "      <td>30.0</td>\n",
       "      <td>NaN</td>\n",
       "      <td>NaN</td>\n",
       "      <td>NaN</td>\n",
       "      <td>0.0</td>\n",
       "      <td>1755.0</td>\n",
       "      <td>-1.5</td>\n",
       "      <td>8.0</td>\n",
       "      <td>36.0</td>\n",
       "      <td>31.0</td>\n",
       "      <td>36.0</td>\n",
       "      <td>-2.0</td>\n",
       "      <td>336.0</td>\n",
       "      <td>0.0</td>\n",
       "      <td>0.0</td>\n",
       "      <td>0.0</td>\n",
       "      <td>0.0</td>\n",
       "      <td>0.0</td>\n",
       "      <td>0.0</td>\n",
       "      <td>0.0</td>\n",
       "      <td>0.0</td>\n",
       "      <td>0.0</td>\n",
       "      <td>0.0</td>\n",
       "      <td>0.0</td>\n",
       "      <td>0.0</td>\n",
       "      <td>0.0</td>\n",
       "      <td>0.0</td>\n",
       "      <td>0.0</td>\n",
       "      <td>1297.0</td>\n",
       "      <td>-8.5</td>\n",
       "      <td>8.0</td>\n",
       "      <td>39.0</td>\n",
       "      <td>34.0</td>\n",
       "      <td>36.0</td>\n",
       "      <td>-2.0</td>\n",
       "      <td>336.0</td>\n",
       "      <td>19.600</td>\n",
       "      <td>1297.0</td>\n",
       "      <td>0.000</td>\n",
       "      <td>0.0</td>\n",
       "      <td>39.0</td>\n",
       "      <td>12.0</td>\n",
       "      <td>1.0</td>\n",
       "      <td>11.8</td>\n",
       "      <td>0.0</td>\n",
       "      <td>22.89375</td>\n",
       "      <td>6026.0</td>\n",
       "      <td>2.0</td>\n",
       "      <td>108.0</td>\n",
       "      <td>0.0</td>\n",
       "      <td>0.0</td>\n",
       "      <td>0.0</td>\n",
       "      <td>0.0</td>\n",
       "      <td>0.0</td>\n",
       "      <td>0.0</td>\n",
       "      <td>0.0</td>\n",
       "      <td>0.0</td>\n",
       "      <td>0.0</td>\n",
       "      <td>0.0</td>\n",
       "      <td>0.0</td>\n",
       "      <td>113.31253</td>\n",
       "      <td>22.959316</td>\n",
       "      <td>113.31792</td>\n",
       "      <td>22.956629</td>\n",
       "      <td>NaN</td>\n",
       "      <td>NaN</td>\n",
       "      <td>NaN</td>\n",
       "      <td>NaN</td>\n",
       "      <td>NaN</td>\n",
       "      <td>NaN</td>\n",
       "      <td>NaN</td>\n",
       "      <td>10</td>\n",
       "    </tr>\n",
       "  </tbody>\n",
       "</table>\n",
       "</div>"
      ],
      "text/plain": [
       "                      VIN                     TDATE     SDATE  BMS_BATTST  \\\n",
       "482610  LMGGN1S5XE1000260 2015-08-03 07:38:10+08:00  20150803         4.0   \n",
       "482611  LMGGN1S5XE1000260 2015-08-03 07:38:20+08:00  20150803         4.0   \n",
       "482612  LMGGN1S5XE1000260 2015-08-03 07:38:30+08:00  20150803         4.0   \n",
       "482613  LMGGN1S5XE1000260 2015-08-03 07:38:43+08:00  20150803         4.0   \n",
       "482614  LMGGN1S5XE1000260 2015-08-03 07:38:53+08:00  20150803         4.0   \n",
       "\n",
       "        BMS_BATTCURR  BMS_BATTVOLT  BMS_INSULATIONST  BMS_INSULATIONRES  \\\n",
       "482610           2.5         338.0               0.0             1022.0   \n",
       "482611           5.0         337.0               0.0             1022.0   \n",
       "482612          16.0         335.0               0.0             1022.0   \n",
       "482613           9.0         335.0               0.0             1022.0   \n",
       "482614          -2.5         337.0               0.0             1022.0   \n",
       "\n",
       "        BMS_CELLVOLTMAX  BMS_CELLVOLTMIN  BMS_FAILURELVL  BMS_BATTSOC  \\\n",
       "482610             3.26             3.25             0.0         27.7   \n",
       "482611             3.25             3.24             0.0         27.7   \n",
       "482612             3.24             3.23             0.0         27.5   \n",
       "482613             3.24             3.23             0.0         27.4   \n",
       "482614             3.25             3.24             0.0         27.4   \n",
       "\n",
       "        BMS_BATTTEMPAVG  BMS_BATTTEMPMAX  BMS_BATTTEMPMIN  CCS_CHARGEVOLT  \\\n",
       "482610             30.5             31.0             30.0             NaN   \n",
       "482611             30.5             31.0             30.0             NaN   \n",
       "482612             30.5             31.0             30.0             NaN   \n",
       "482613             30.5             31.0             30.0             NaN   \n",
       "482614             30.5             31.0             30.0             NaN   \n",
       "\n",
       "        CCS_CHARGECUR  CCS_CHARGERSTARTST  VCU_SYSFAILMODE  MCU_FTM_ACTROTSPD  \\\n",
       "482610            NaN                 NaN              0.0                0.0   \n",
       "482611            NaN                 NaN              0.0                0.0   \n",
       "482612            NaN                 NaN              0.0             1822.0   \n",
       "482613            NaN                 NaN              0.0             2197.0   \n",
       "482614            NaN                 NaN              0.0             1755.0   \n",
       "\n",
       "        MCU_FTM_ACTTORQ  MCU_FTM_STMODE  MCU_FTM_MOTORACTTEMP  \\\n",
       "482610             -0.5             4.0                  38.0   \n",
       "482611             -0.5             4.0                  36.0   \n",
       "482612             17.5             8.0                  36.0   \n",
       "482613             16.5             8.0                  37.0   \n",
       "482614             -1.5             8.0                  36.0   \n",
       "\n",
       "        MCU_FTM_ROTORACTTEMP  MCU_FTM_INVERTERACTTEMP  MCU_FTM_ACTHV_CUR  \\\n",
       "482610                  33.0                     29.0               -2.0   \n",
       "482611                  31.0                     29.0                1.0   \n",
       "482612                  31.0                     39.0               14.0   \n",
       "482613                  32.0                     35.0               13.0   \n",
       "482614                  31.0                     36.0               -2.0   \n",
       "\n",
       "        MCU_FTM_ACTHV_VOLT  MCU_FTM_FAULT_INFO1  MCU_FTM_FAULT_INFO2  \\\n",
       "482610               336.0                  0.0                  0.0   \n",
       "482611               336.0                  0.0                  0.0   \n",
       "482612               334.0                  0.0                  0.0   \n",
       "482613               334.0                  0.0                  0.0   \n",
       "482614               336.0                  0.0                  0.0   \n",
       "\n",
       "        MCU_DCDC_FAILST  MCU_DCDC_STMODE  VCU_DCDC_STMODELREQ  \\\n",
       "482610              0.0              0.0                  0.0   \n",
       "482611              0.0              0.0                  0.0   \n",
       "482612              0.0              0.0                  0.0   \n",
       "482613              0.0              0.0                  0.0   \n",
       "482614              0.0              0.0                  0.0   \n",
       "\n",
       "        BMS_BAT_ERROR_SOC_L  BMS_BAT_ERROR_CELL_V_H  BMS_BAT_ERROR_CELL_V_L  \\\n",
       "482610                  0.0                     0.0                     0.0   \n",
       "482611                  0.0                     0.0                     0.0   \n",
       "482612                  0.0                     0.0                     0.0   \n",
       "482613                  0.0                     0.0                     0.0   \n",
       "482614                  0.0                     0.0                     0.0   \n",
       "\n",
       "        BMS_BAT_ERROR_PACK_SUMV_H  BMS_BAT_ERROR_PACK_SUMV_L  \\\n",
       "482610                        0.0                        0.0   \n",
       "482611                        0.0                        0.0   \n",
       "482612                        0.0                        0.0   \n",
       "482613                        0.0                        0.0   \n",
       "482614                        0.0                        0.0   \n",
       "\n",
       "        BMS_BAT_ERROR_CELL_T_H  BMS_BAT_ERROR_T_UNBALANCE  MCU_GM_FAILST  \\\n",
       "482610                     0.0                        0.0            0.0   \n",
       "482611                     0.0                        0.0            0.0   \n",
       "482612                     0.0                        0.0            0.0   \n",
       "482613                     0.0                        0.0            0.0   \n",
       "482614                     0.0                        0.0            0.0   \n",
       "\n",
       "        MCU_FTM_FAILST  MCU_FTM_FAULT_INFO3  MCU_GM_ACTROTSPD  MCU_GM_ACTTORQ  \\\n",
       "482610             0.0                  0.0            1282.0           -10.0   \n",
       "482611             0.0                  0.0            1325.0            -3.0   \n",
       "482612             0.0                  0.0            1296.0            -4.0   \n",
       "482613             0.0                  0.0            1249.0            -3.0   \n",
       "482614             0.0                  0.0            1297.0            -8.5   \n",
       "\n",
       "        MCU_GM_STMODE  MCU_GM_MOTORACTTEMP  MCU_GM_ROTORACTTEMP  \\\n",
       "482610            8.0                 38.0                 33.0   \n",
       "482611            8.0                 37.0                 32.0   \n",
       "482612            8.0                 38.0                 33.0   \n",
       "482613            8.0                 38.0                 33.0   \n",
       "482614            8.0                 39.0                 34.0   \n",
       "\n",
       "        MCU_GM_INVERTERACTTEMP  MCU_GM_ACTHV_CUR  MCU_GM_ACTHV_VOL  \\\n",
       "482610                    34.0              -2.0             337.0   \n",
       "482611                    34.0               1.0             338.0   \n",
       "482612                    34.0              12.0             335.0   \n",
       "482613                    35.0              10.0             334.0   \n",
       "482614                    36.0              -2.0             336.0   \n",
       "\n",
       "        EMS_ENGTORQ  EMS_ENGSPD  EMS_ACCPEDALPST  EMS_BRAKEPEDALST  \\\n",
       "482610       21.560      1269.0            0.000               1.0   \n",
       "482611       20.384      1319.0            0.000               1.0   \n",
       "482612       20.384      1287.0           10.192               0.0   \n",
       "482613       19.600      1230.0            3.920               0.0   \n",
       "482614       19.600      1297.0            0.000               0.0   \n",
       "\n",
       "        EMS_ENGWATERTEMP  HCU_GEARFORDSP  HCU_OILPRESSUREWARN  \\\n",
       "482610              30.0            15.0                  1.0   \n",
       "482611              30.0            15.0                  1.0   \n",
       "482612              33.0            12.0                  1.0   \n",
       "482613              36.0            12.0                  1.0   \n",
       "482614              39.0            12.0                  1.0   \n",
       "\n",
       "        HCU_AVGFUELCONSUMP  HCU_BATCHRGDSP  BCS_VEHSPD  ICM_TOTALODOMETER  \\\n",
       "482610                19.9             0.0     0.00000             6026.0   \n",
       "482611                19.9             0.0     0.00000             6026.0   \n",
       "482612                19.9             0.0    23.85000             6026.0   \n",
       "482613                14.3             0.0    29.36250             6026.0   \n",
       "482614                11.8             0.0    22.89375             6026.0   \n",
       "\n",
       "        BCM_KEYST  HCU_DSTOIL  HCU_DSTBAT  EMS_FAULTRANKSIG  \\\n",
       "482610        2.0       110.0         0.0               0.0   \n",
       "482611        2.0       110.0         0.0               0.0   \n",
       "482612        2.0       110.0         0.0               0.0   \n",
       "482613        2.0       110.0         0.0               0.0   \n",
       "482614        2.0       108.0         0.0               0.0   \n",
       "\n",
       "        SRS_CRASHOUTPUTST  SRS_DRIVERSEATBELTST  EDC_STERRLVLCOM  \\\n",
       "482610                0.0                   1.0              0.0   \n",
       "482611                0.0                   0.0              0.0   \n",
       "482612                0.0                   0.0              0.0   \n",
       "482613                0.0                   0.0              0.0   \n",
       "482614                0.0                   0.0              0.0   \n",
       "\n",
       "        EDC_STERRLVLCOMSUP  EDB_STERRLVLHVES  EDG_STERRLVLGEN  \\\n",
       "482610                 0.0               0.0              0.0   \n",
       "482611                 0.0               0.0              0.0   \n",
       "482612                 0.0               0.0              0.0   \n",
       "482613                 0.0               0.0              0.0   \n",
       "482614                 0.0               0.0              0.0   \n",
       "\n",
       "        EDM_STERRLVLMOT  EDE_STERRLVLENG  EDV_STERRLVLVEH      LON84  \\\n",
       "482610              0.0              0.0              0.0  113.31102   \n",
       "482611              0.0              0.0              0.0  113.31111   \n",
       "482612              0.0              0.0              0.0  113.31136   \n",
       "482613              0.0              0.0              0.0  113.31178   \n",
       "482614              0.0              0.0              0.0  113.31253   \n",
       "\n",
       "            LAT84      LON02      LAT02  BCS_ABSFAULTST  BCS_EBDFAULTST  \\\n",
       "482610  22.960543  113.31641  22.957851             NaN             NaN   \n",
       "482611  22.960600  113.31650  22.957910             NaN             NaN   \n",
       "482612  22.960423  113.31675  22.957735             NaN             NaN   \n",
       "482613  22.959570  113.31717  22.956882             NaN             NaN   \n",
       "482614  22.959316  113.31792  22.956629             NaN             NaN   \n",
       "\n",
       "        MCU_DCDC_ACTTEMP  BMS_HVILST  HCU_HEVSYSREADYST  BMS_BALANCEST  \\\n",
       "482610               NaN         NaN                NaN            NaN   \n",
       "482611               NaN         NaN                NaN            NaN   \n",
       "482612               NaN         NaN                NaN            NaN   \n",
       "482613               NaN         NaN                NaN            NaN   \n",
       "482614               NaN         NaN                NaN            NaN   \n",
       "\n",
       "        GPS_HEADING  TDELTA  \n",
       "482610          NaN   51734  \n",
       "482611          NaN      10  \n",
       "482612          NaN      10  \n",
       "482613          NaN      10  \n",
       "482614          NaN      10  "
      ]
     },
     "execution_count": 6,
     "metadata": {},
     "output_type": "execute_result"
    }
   ],
   "source": [
    "df_single.head()"
   ]
  },
  {
   "cell_type": "code",
   "execution_count": 7,
   "metadata": {},
   "outputs": [],
   "source": [
    "lats, lons = df_single['LAT84'].tolist(), df_single['LON84'].tolist()    "
   ]
  },
  {
   "cell_type": "code",
   "execution_count": 15,
   "metadata": {
    "scrolled": false
   },
   "outputs": [
    {
     "data": {
      "text/html": [
       "<div style=\"width:100%;\"><div style=\"position:relative;width:100%;height:0;padding-bottom:60%;\"><iframe src=\"data:text/html;charset=utf-8;base64,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\" style=\"position:absolute;width:100%;height:100%;left:0;top:0;border:none !important;\" allowfullscreen webkitallowfullscreen mozallowfullscreen></iframe></div></div>"
      ],
      "text/plain": [
       "<folium.folium.Map at 0x17af6b90>"
      ]
     },
     "metadata": {},
     "output_type": "display_data"
    },
    {
     "name": "stdout",
     "output_type": "stream",
     "text": [
      "CPU times: user 4.99 s, sys: 75.7 ms, total: 5.07 s\n",
      "Wall time: 5.06 s\n"
     ]
    }
   ],
   "source": [
    "%%time\n",
    "m = folium.Map(location=[np.mean(lats), np.mean(lons)], zoom_start=12.5)\n",
    "for lat, lon in zip(lats, lons):\n",
    "    folium.CircleMarker([lat, lon], color='blue', fill=True, fill_opacity=0.3, weight=1, radius=5).add_to(m)\n",
    "folium.Marker([lats[0], lons[0]], popup='trip_start', icon=folium.Icon(color='green', icon='map-marker')).add_to(m)\n",
    "folium.Marker([lats[-1], lons[-1]], popup='trip_end', icon=folium.Icon(color='red', icon='map-marker')).add_to(m)\n",
    "\n",
    "# m.save('mymap.html')\n",
    "display(m)"
   ]
  }
 ],
 "metadata": {
  "kernelspec": {
   "display_name": "Python 2",
   "language": "python",
   "name": "python2"
  },
  "language_info": {
   "codemirror_mode": {
    "name": "ipython",
    "version": 2
   },
   "file_extension": ".py",
   "mimetype": "text/x-python",
   "name": "python",
   "nbconvert_exporter": "python",
   "pygments_lexer": "ipython2",
   "version": "2.7.5"
  }
 },
 "nbformat": 4,
 "nbformat_minor": 2
}
