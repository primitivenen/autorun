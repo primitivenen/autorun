{
 "cells": [
  {
   "cell_type": "code",
   "execution_count": 1,
   "metadata": {
    "collapsed": true,
    "deletable": true,
    "editable": true
   },
   "outputs": [],
   "source": [
    "## Imports\n",
    "import pandas as pd\n",
    "import numpy as np\n",
    "import time\n",
    "import findspark  # find spark home directory\n",
    "import datetime\n",
    "import sys\n",
    "from os import chdir, getcwd, mkdir\n",
    "from os.path import exists\n",
    "\n",
    "# Plotting\n",
    "import matplotlib.pyplot as plt\n",
    "%matplotlib inline\n",
    "import seaborn as sns\n",
    "\n",
    "# Print using Markdown style\n",
    "from IPython.display import Markdown, display\n",
    "def printmd(string):\n",
    "    display(Markdown(string))\n",
    "\n",
    "    \n",
    "    \n",
    "# Import path to zipfile\n",
    "ZIP_FILE = '/home/trangel/guobiao-v4/veh.zip'\n",
    "sys.path.insert(0, ZIP_FILE)\n",
    "from trip_based_stats.configs import *\n",
    "import trip_based_stats.single_vin_battery_flow as bf\n"
   ]
  },
  {
   "cell_type": "code",
   "execution_count": 2,
   "metadata": {
    "collapsed": true,
    "deletable": true,
    "editable": true
   },
   "outputs": [],
   "source": [
    "#vin = 'LMGFJ1S52H1000622'\n",
    "#days = [datetime.date(2018,5,16), datetime.date(2018,5,17)]\n",
    "\n",
    "#vin = 'LMGHP1S83H1000131'\n",
    "#days = [datetime.date(2018,1,2)]\n",
    "#days = [datetime.date(2017,12,26), datetime.date(2017,12,27)]\n",
    "#days = [datetime.date(2018,3,10), datetime.date(2018,3,11)]\n",
    "\n",
    "#vin = 'LMGHP1S58J1002212'\n",
    "#days = [datetime.date(2018,4,29), datetime.date(2018,4,30)]\n",
    "\n",
    "#vin = 'LMGHP1S80H1000149'\n",
    "#days = [datetime.date(2018,3,29), datetime.date(2018,3,30)]\n",
    "\n",
    "#vin = 'LMGHP1S88H1000111'\n",
    "#days = [datetime.date(2017,12,16), datetime.date(2017,12,17)]\n",
    "\n",
    "#vin = 'LMGHP1S80H1S00030'\n",
    "#days = [datetime.date(2018,7,18)]\n",
    "\n",
    "\n",
    "#vin = 'LMGHP1S83H1000131'\n",
    "#days = [datetime.date(2018,4,14), datetime.date(2018,4,15)]\n",
    "#days = [datetime.date(2018,6, 21), datetime.date(2018,6,22)]\n",
    "\n",
    "\n",
    "#vin = 'LMGAJ1S82H1002097'\n",
    "#days = [datetime.date(2018,5,18)]\n",
    "\n",
    "#vin = 'LMGHP1S5XH1000391'\n",
    "#days = [datetime.date(2018,1,1)]\n",
    "\n",
    "vin = 'LMGHP1S86H1000043'\n",
    "days = [datetime.date(2018,7,1)]\n",
    "\n",
    "# SOC windows for trips_full_soc and charging_full_soc\n",
    "window_up_min=0\n",
    "window_up_max=100\n",
    "window_down_min=0\n",
    "window_down_max=100\n",
    "delta_soc_max=100\n",
    "delta_soc_min=50"
   ]
  },
  {
   "cell_type": "markdown",
   "metadata": {
    "deletable": true,
    "editable": true
   },
   "source": [
    "# Spark session"
   ]
  },
  {
   "cell_type": "code",
   "execution_count": 3,
   "metadata": {
    "collapsed": true,
    "deletable": true,
    "editable": true
   },
   "outputs": [],
   "source": [
    "# Configure OPTIONS\n",
    "findspark.init('/usr/hdp/current/spark2-client')\n",
    "import pyspark\n",
    "conf = pyspark.SparkConf().setAll([('spark.app.name', 'trip_stats_run'), # App Name\n",
    "    ('spark.master', 'yarn'),              # spark run mode: locally or remotely\n",
    "    ('spark.submit.deployMode', 'client'), # deploy in yarn-client or yarn-cluster\n",
    "    ('spark.executor.memory', '8g'),       # memory allocated for each executor\n",
    "    ('spark.executor.cores', '3'),         # number of cores for each executor\n",
    "    ('spark.executor.instances', '1'),    # number of executors in total\n",
    "    ('spark.driver.maxResultSize', '5g'), # Result size is large, need to increase from default of 1g\n",
    "    ('spark.yarn.am.memory', '10g')])       # memory for spark driver (application master)\n",
    "sc = pyspark.SparkContext.getOrCreate(conf=conf)\n",
    "\n",
    "from pyspark.sql import SparkSession\n",
    "spark = SparkSession.builder.getOrCreate()"
   ]
  },
  {
   "cell_type": "markdown",
   "metadata": {
    "deletable": true,
    "editable": true
   },
   "source": [
    "# Load spark files and convert into pandas dataframe"
   ]
  },
  {
   "cell_type": "code",
   "execution_count": 4,
   "metadata": {
    "collapsed": false,
    "deletable": true,
    "editable": true,
    "scrolled": true
   },
   "outputs": [
    {
     "name": "stdout",
     "output_type": "stream",
     "text": [
      "DF name hdfs://172.15.7.170:8020/data/guobiao/csv/d=20180701\n"
     ]
    },
    {
     "data": {
      "text/html": [
       "<div>\n",
       "<style scoped>\n",
       "    .dataframe tbody tr th:only-of-type {\n",
       "        vertical-align: middle;\n",
       "    }\n",
       "\n",
       "    .dataframe tbody tr th {\n",
       "        vertical-align: top;\n",
       "    }\n",
       "\n",
       "    .dataframe thead th {\n",
       "        text-align: right;\n",
       "    }\n",
       "</style>\n",
       "<table border=\"1\" class=\"dataframe\">\n",
       "  <thead>\n",
       "    <tr style=\"text-align: right;\">\n",
       "      <th></th>\n",
       "      <th>vin</th>\n",
       "      <th>vintype</th>\n",
       "      <th>ts</th>\n",
       "      <th>veh_st</th>\n",
       "      <th>veh_charge_st</th>\n",
       "      <th>veh_runmode</th>\n",
       "      <th>veh_spd</th>\n",
       "      <th>veh_odo</th>\n",
       "      <th>veh_volt</th>\n",
       "      <th>veh_curr</th>\n",
       "      <th>...</th>\n",
       "      <th>alm_others_cnt</th>\n",
       "      <th>alm_others_list</th>\n",
       "      <th>esd_volt_subsys_seq</th>\n",
       "      <th>esd_volt</th>\n",
       "      <th>esd_curr</th>\n",
       "      <th>esd_sc_cnt</th>\n",
       "      <th>esd_frame_start</th>\n",
       "      <th>esd_frame_sc_cnt</th>\n",
       "      <th>esd_sc_volt_list</th>\n",
       "      <th>esd_sc_temp_list</th>\n",
       "    </tr>\n",
       "  </thead>\n",
       "  <tbody>\n",
       "    <tr>\n",
       "      <th>0</th>\n",
       "      <td>LMGHP1S86H1000043</td>\n",
       "      <td>A5HEV</td>\n",
       "      <td>1530375225000</td>\n",
       "      <td>2</td>\n",
       "      <td>1</td>\n",
       "      <td>1</td>\n",
       "      <td>0.0</td>\n",
       "      <td>120607.0</td>\n",
       "      <td>372.0</td>\n",
       "      <td>-45.5</td>\n",
       "      <td>...</td>\n",
       "      <td>0</td>\n",
       "      <td></td>\n",
       "      <td>1</td>\n",
       "      <td>372.70000000000005</td>\n",
       "      <td>-45.59999999999991</td>\n",
       "      <td>90</td>\n",
       "      <td>1</td>\n",
       "      <td>90</td>\n",
       "      <td>4.145|4.150|4.150|4.147|4.153|4.149|4.147|4.14...</td>\n",
       "      <td>26|26|26|27|28|27|27|27|28|28|28|27|27|27|27|2...</td>\n",
       "    </tr>\n",
       "    <tr>\n",
       "      <th>1</th>\n",
       "      <td>LMGHP1S86H1000043</td>\n",
       "      <td>A5HEV</td>\n",
       "      <td>1530375245000</td>\n",
       "      <td>2</td>\n",
       "      <td>1</td>\n",
       "      <td>1</td>\n",
       "      <td>0.0</td>\n",
       "      <td>120607.0</td>\n",
       "      <td>372.0</td>\n",
       "      <td>-45.0</td>\n",
       "      <td>...</td>\n",
       "      <td>0</td>\n",
       "      <td></td>\n",
       "      <td>1</td>\n",
       "      <td>372.90000000000003</td>\n",
       "      <td>-45.39999999999998</td>\n",
       "      <td>90</td>\n",
       "      <td>1</td>\n",
       "      <td>90</td>\n",
       "      <td>4.147|4.152|4.153|4.150|4.156|4.152|4.149|4.14...</td>\n",
       "      <td>26|26|26|27|28|27|27|27|28|28|28|27|27|27|27|2...</td>\n",
       "    </tr>\n",
       "    <tr>\n",
       "      <th>2</th>\n",
       "      <td>LMGHP1S86H1000043</td>\n",
       "      <td>A5HEV</td>\n",
       "      <td>1530375035000</td>\n",
       "      <td>2</td>\n",
       "      <td>1</td>\n",
       "      <td>1</td>\n",
       "      <td>0.0</td>\n",
       "      <td>120607.0</td>\n",
       "      <td>370.0</td>\n",
       "      <td>-43.5</td>\n",
       "      <td>...</td>\n",
       "      <td>0</td>\n",
       "      <td></td>\n",
       "      <td>1</td>\n",
       "      <td>370.40000000000003</td>\n",
       "      <td>-43.89999999999998</td>\n",
       "      <td>90</td>\n",
       "      <td>1</td>\n",
       "      <td>90</td>\n",
       "      <td>4.120|4.125|4.126|4.122|4.128|4.124|4.122|4.12...</td>\n",
       "      <td>27|27|27|28|29|28|28|28|29|28|28|27|28|28|28|2...</td>\n",
       "    </tr>\n",
       "    <tr>\n",
       "      <th>3</th>\n",
       "      <td>LMGHP1S86H1000043</td>\n",
       "      <td>A5HEV</td>\n",
       "      <td>1530375405000</td>\n",
       "      <td>2</td>\n",
       "      <td>1</td>\n",
       "      <td>1</td>\n",
       "      <td>0.0</td>\n",
       "      <td>120607.0</td>\n",
       "      <td>374.0</td>\n",
       "      <td>-45.5</td>\n",
       "      <td>...</td>\n",
       "      <td>0</td>\n",
       "      <td></td>\n",
       "      <td>1</td>\n",
       "      <td>374.70000000000005</td>\n",
       "      <td>-45.39999999999998</td>\n",
       "      <td>90</td>\n",
       "      <td>1</td>\n",
       "      <td>90</td>\n",
       "      <td>4.167|4.172|4.172|4.169|4.174|4.171|4.169|4.16...</td>\n",
       "      <td>26|26|26|27|28|27|27|27|28|27|27|27|27|27|27|2...</td>\n",
       "    </tr>\n",
       "    <tr>\n",
       "      <th>4</th>\n",
       "      <td>LMGHP1S86H1000043</td>\n",
       "      <td>A5HEV</td>\n",
       "      <td>1530374535000</td>\n",
       "      <td>2</td>\n",
       "      <td>1</td>\n",
       "      <td>1</td>\n",
       "      <td>0.0</td>\n",
       "      <td>120607.0</td>\n",
       "      <td>365.0</td>\n",
       "      <td>-43.5</td>\n",
       "      <td>...</td>\n",
       "      <td>0</td>\n",
       "      <td></td>\n",
       "      <td>1</td>\n",
       "      <td>365.5</td>\n",
       "      <td>-43.69999999999993</td>\n",
       "      <td>90</td>\n",
       "      <td>1</td>\n",
       "      <td>90</td>\n",
       "      <td>4.063|4.068|4.068|4.065|4.070|4.068|4.066|4.06...</td>\n",
       "      <td>28|28|28|29|30|29|29|29|31|30|30|29|29|29|29|2...</td>\n",
       "    </tr>\n",
       "  </tbody>\n",
       "</table>\n",
       "<p>5 rows × 79 columns</p>\n",
       "</div>"
      ],
      "text/plain": [
       "                 vin vintype             ts veh_st veh_charge_st veh_runmode  \\\n",
       "0  LMGHP1S86H1000043   A5HEV  1530375225000      2             1           1   \n",
       "1  LMGHP1S86H1000043   A5HEV  1530375245000      2             1           1   \n",
       "2  LMGHP1S86H1000043   A5HEV  1530375035000      2             1           1   \n",
       "3  LMGHP1S86H1000043   A5HEV  1530375405000      2             1           1   \n",
       "4  LMGHP1S86H1000043   A5HEV  1530374535000      2             1           1   \n",
       "\n",
       "  veh_spd   veh_odo veh_volt veh_curr  \\\n",
       "0     0.0  120607.0    372.0    -45.5   \n",
       "1     0.0  120607.0    372.0    -45.0   \n",
       "2     0.0  120607.0    370.0    -43.5   \n",
       "3     0.0  120607.0    374.0    -45.5   \n",
       "4     0.0  120607.0    365.0    -43.5   \n",
       "\n",
       "                         ...                         alm_others_cnt  \\\n",
       "0                        ...                                      0   \n",
       "1                        ...                                      0   \n",
       "2                        ...                                      0   \n",
       "3                        ...                                      0   \n",
       "4                        ...                                      0   \n",
       "\n",
       "  alm_others_list esd_volt_subsys_seq            esd_volt            esd_curr  \\\n",
       "0                                   1  372.70000000000005  -45.59999999999991   \n",
       "1                                   1  372.90000000000003  -45.39999999999998   \n",
       "2                                   1  370.40000000000003  -43.89999999999998   \n",
       "3                                   1  374.70000000000005  -45.39999999999998   \n",
       "4                                   1               365.5  -43.69999999999993   \n",
       "\n",
       "  esd_sc_cnt esd_frame_start esd_frame_sc_cnt  \\\n",
       "0         90               1               90   \n",
       "1         90               1               90   \n",
       "2         90               1               90   \n",
       "3         90               1               90   \n",
       "4         90               1               90   \n",
       "\n",
       "                                    esd_sc_volt_list  \\\n",
       "0  4.145|4.150|4.150|4.147|4.153|4.149|4.147|4.14...   \n",
       "1  4.147|4.152|4.153|4.150|4.156|4.152|4.149|4.14...   \n",
       "2  4.120|4.125|4.126|4.122|4.128|4.124|4.122|4.12...   \n",
       "3  4.167|4.172|4.172|4.169|4.174|4.171|4.169|4.16...   \n",
       "4  4.063|4.068|4.068|4.065|4.070|4.068|4.066|4.06...   \n",
       "\n",
       "                                    esd_sc_temp_list  \n",
       "0  26|26|26|27|28|27|27|27|28|28|28|27|27|27|27|2...  \n",
       "1  26|26|26|27|28|27|27|27|28|28|28|27|27|27|27|2...  \n",
       "2  27|27|27|28|29|28|28|28|29|28|28|27|28|28|28|2...  \n",
       "3  26|26|26|27|28|27|27|27|28|27|27|27|27|27|27|2...  \n",
       "4  28|28|28|29|30|29|29|29|31|30|30|29|29|29|29|2...  \n",
       "\n",
       "[5 rows x 79 columns]"
      ]
     },
     "execution_count": 4,
     "metadata": {},
     "output_type": "execute_result"
    }
   ],
   "source": [
    "data_files = []\n",
    "for day in days:\n",
    "    # Convert format\n",
    "    d1 = day.isoformat()\n",
    "    dd1 = d1.replace('-', '')\n",
    "    # Read file\n",
    "    df_name = RAW_INPUT_DIR + '/d={}'.format(dd1)\n",
    "    print('DF name {}'.format(df_name))\n",
    "    data_files.append(df_name)\n",
    "\n",
    "from common.vehicle_utils import load_header_config\n",
    "\n",
    "if len(data_files) == 1:\n",
    "    rdd = spark.sparkContext.textFile(data_files[0])\n",
    "else:\n",
    "    rdds = []\n",
    "    for data_file in data_files:\n",
    "        rddi = spark.sparkContext.textFile(data_file)\n",
    "        rdds.append(rddi)\n",
    "        rdd = sc.union(rdds)\n",
    "\n",
    "\n",
    "# Convert to spark df\n",
    "spark_df = rdd.map(lambda x: str(x)).map(lambda w: w.split(',')).toDF()\n",
    "# 2. Read header data\n",
    "header_columns, configs = load_header_config(CONFIG_FILE)\n",
    "spark_df = spark_df.toDF(*header_columns)\n",
    "\n",
    "# Filter data in spark DF\n",
    "df_vin = spark_df.filter(\"vin = '{}'\".format(vin))\n",
    "#df_vin.show()\n",
    "# Convert to pandas\n",
    "df_vin = df_vin.toPandas()\n",
    "df_vin.head()"
   ]
  },
  {
   "cell_type": "markdown",
   "metadata": {
    "deletable": true,
    "editable": true
   },
   "source": [
    "# Battery flow for a single VIN"
   ]
  },
  {
   "cell_type": "code",
   "execution_count": 5,
   "metadata": {
    "collapsed": false,
    "deletable": true,
    "editable": true,
    "scrolled": true
   },
   "outputs": [
    {
     "name": "stdout",
     "output_type": "stream",
     "text": [
      "N 5286\n",
      "Nc 1421\n",
      "Nd 3853\n",
      "Ndb 3853\n",
      "VIN number LMGHP1S86H1000043\n",
      "End date 2018-07-01\n",
      "Dataset size 5286\n",
      "SOC windows:\n",
      "\n",
      "\twindow_up_min 0\n",
      "\twindow_up_max 100\n",
      "\twindow_down_min 0\n",
      "\twindow_down_max 100\n",
      "\tdelta_soc_min 50\n",
      "\tdelta_soc_max 100\n"
     ]
    }
   ],
   "source": [
    "reload(bf)\n",
    "flow = bf.single_vin_battery_flow(\n",
    "    df=df_vin, vin=vin, end_date=day,\n",
    "    window_up_min=window_up_min,\n",
    "    window_up_max=window_up_max,\n",
    "    window_down_min=window_down_min,\n",
    "    window_down_max=window_down_max,\n",
    "    delta_soc_max=delta_soc_max,\n",
    "    delta_soc_min=delta_soc_min\n",
    ")\n",
    "\n",
    "flow.show()\n",
    "\n",
    "# Convert to series for plotting\n",
    "# Convert to time series to plot\n",
    "ts = flow.df\n",
    "ts.index = ts['ts']\n",
    "ts_charge = flow.df_charge\n",
    "ts_charge.index = ts_charge['ts']\n",
    "ts_drive = flow.df_drive\n",
    "ts_drive.index = ts_drive['ts']\n",
    "ts_drive_on_batt = flow.df_drive_on_batt\n",
    "ts_drive_on_batt.index = ts_drive_on_batt['ts']"
   ]
  },
  {
   "cell_type": "markdown",
   "metadata": {
    "deletable": true,
    "editable": true
   },
   "source": [
    "# Charging and driving records"
   ]
  },
  {
   "cell_type": "code",
   "execution_count": 6,
   "metadata": {
    "collapsed": false,
    "deletable": true,
    "editable": true
   },
   "outputs": [
    {
     "data": {
      "image/png": "[encoded data removed]",
      "text/plain": [
       "<matplotlib.figure.Figure at 0x6195f90>"
      ]
     },
     "metadata": {},
     "output_type": "display_data"
    }
   ],
   "source": [
    "sns.set(rc={\"figure.figsize\": (13, 4)})\n",
    "sns.set_context('talk')\n",
    "\n",
    "\n",
    "f, (ax) = plt.subplots()\n",
    "\n",
    "ax.plot(ts['veh_soc'], 'bo', label='all')\n",
    "#ax.plot(ts_drive['veh_soc'], 'ro', label='driving')\n",
    "ax.plot(ts_charge['veh_soc'], 'go', label='charging')\n",
    "ax.plot(ts_drive_on_batt['veh_soc'], 'o', color='orange', label='driving on batt.')\n",
    "#ax.plot(ts2['veh_soc'], 'ro')\n",
    "\n",
    "ax.legend(loc=0, frameon=True)\n",
    "ax.set_ylabel('SOC')\n",
    "plt.xticks(rotation=45)\n",
    "sns.despine()"
   ]
  },
  {
   "cell_type": "markdown",
   "metadata": {
    "deletable": true,
    "editable": true
   },
   "source": [
    "# Trips and charging periods"
   ]
  },
  {
   "cell_type": "code",
   "execution_count": 7,
   "metadata": {
    "collapsed": false,
    "deletable": true,
    "editable": true
   },
   "outputs": [
    {
     "name": "stderr",
     "output_type": "stream",
     "text": [
      "/home/trangel/guobiao-v4/veh.zip/trip_based_stats/find_periods.py:50: FutureWarning: 'ts' is both an index level and a column label.\n",
      "Defaulting to column, but this will raise an ambiguity error in a future version\n"
     ]
    },
    {
     "name": "stdout",
     "output_type": "stream",
     "text": [
      "Found 5 driving periods\n",
      "Found 6 charging periods\n",
      "Found 2 charging full-soc periods\n",
      "Found 3 trips full-soc\n"
     ]
    }
   ],
   "source": [
    "flow.battery_periods()"
   ]
  },
  {
   "cell_type": "raw",
   "metadata": {
    "deletable": true,
    "editable": true
   },
   "source": [
    "sys.path.insert(0, '/home/trangel/guobiao-v4/trip_based_stats')\n",
    "import filter_high_end as fhe\n",
    "reload(fhe)\n",
    "\n",
    "delta_soc_min = 50\n",
    "delta_soc_max = 100\n",
    "window_down_min = 0\n",
    "window_down_max = 100\n",
    "window_up_min = 90\n",
    "window_up_max = 100\n",
    "df_ = fhe.filter_high_end(flow.trips_on_battery, end_date=day, delta_soc_min=delta_soc_min, delta_soc_max=delta_soc_max,\n",
    "        window_down_min=window_down_min, window_down_max=window_down_max, window_up_min=window_up_min, \n",
    "        window_up_max=window_up_max, min_soc_limit_exclusive=False, max_soc_limit_exclusive=False)\n",
    "\n",
    "df_[0].veh_soc"
   ]
  },
  {
   "cell_type": "code",
   "execution_count": 8,
   "metadata": {
    "collapsed": false,
    "deletable": true,
    "editable": true
   },
   "outputs": [
    {
     "data": {
      "image/png": "[encoded data removed]",
      "text/plain": [
       "<matplotlib.figure.Figure at 0x5edb050>"
      ]
     },
     "metadata": {},
     "output_type": "display_data"
    }
   ],
   "source": [
    "sns.set(rc={\"figure.figsize\": (13, 4)})\n",
    "sns.set_context('talk')\n",
    "\n",
    "\n",
    "f, (ax) = plt.subplots()\n",
    "\n",
    "ax.plot(ts['veh_soc'], 'o', color='black', label='all')\n",
    "for i, df in enumerate(flow.trips_on_battery):\n",
    "    ax.plot(df['veh_soc'], 'o', label='trip {}'.format(i+1))\n",
    "      \n",
    "for i, df in enumerate(flow.charging_periods):\n",
    "    ax.plot(df['veh_soc'], 'o',  label='charging {}'.format(i+1))\n",
    "\n",
    "ax.legend(loc=2, frameon=True)\n",
    "ax.set_ylabel('SOC')\n",
    "plt.xticks(rotation=45)\n",
    "sns.despine()"
   ]
  },
  {
   "cell_type": "markdown",
   "metadata": {
    "deletable": true,
    "editable": true
   },
   "source": [
    "# Trips and charging full SOC"
   ]
  },
  {
   "cell_type": "code",
   "execution_count": 9,
   "metadata": {
    "collapsed": false,
    "deletable": true,
    "editable": true,
    "scrolled": true
   },
   "outputs": [
    {
     "data": {
      "image/png": "[encoded data removed]",
      "text/plain": [
       "<matplotlib.figure.Figure at 0xadb0590>"
      ]
     },
     "metadata": {},
     "output_type": "display_data"
    }
   ],
   "source": [
    "sns.set(rc={\"figure.figsize\": (13, 4)})\n",
    "sns.set_context('talk')\n",
    "\n",
    "\n",
    "f, (ax) = plt.subplots()\n",
    "\n",
    "ax.plot(ts['veh_soc'], 'o', color='black', label='all')\n",
    "for i, df in enumerate(flow.trips_full_soc):\n",
    "    ax.plot(df['veh_soc'], 'o', label='trips {}'.format(i+1))\n",
    "for i, df in enumerate(flow.charging_full_soc_periods):\n",
    "    ax.plot(df['veh_soc'], 'o',  label='charging {}'.format(i+1))\n",
    "\n",
    "ax.set_title('Full SOC periods')\n",
    "ax.legend(loc=0, frameon=True)\n",
    "ax.set_ylabel('SOC')\n",
    "plt.xticks(rotation=45)\n",
    "sns.despine()"
   ]
  },
  {
   "cell_type": "markdown",
   "metadata": {
    "deletable": true,
    "editable": true
   },
   "source": [
    "# Statistics   "
   ]
  },
  {
   "cell_type": "code",
   "execution_count": 12,
   "metadata": {
    "collapsed": false,
    "deletable": true,
    "editable": true
   },
   "outputs": [
    {
     "name": "stderr",
     "output_type": "stream",
     "text": [
      "/usr/lib64/python2.7/site-packages/scipy/integrate/quadpack.py:385: IntegrationWarning: The maximum number of subdivisions (50) has been achieved.\n",
      "  If increasing the limit yields no improvement it is advised to analyze \n",
      "  the integrand in order to determine the difficulties.  If the position of a \n",
      "  local difficulty can be determined (singularity, discontinuity) one will \n",
      "  probably gain from splitting up the interval and calling the integrator \n",
      "  on the subranges.  Perhaps a special-purpose integrator should be used.\n",
      "  warnings.warn(msg, IntegrationWarning)\n"
     ]
    },
    {
     "name": "stdout",
     "output_type": "stream",
     "text": [
      "Stats for LMGHP1S86H1000043\n",
      "ah_throughput battery_temp_avg battery_temp_max battery_temp_min cell_volt_avg_mean cell_volt_avg_p1 cell_volt_avg_p99 cell_volt_avg_std cell_volt_diff_mean cell_volt_diff_p1 cell_volt_diff_p99 cell_volt_diff_std count_records day delta_soc duration end_soc end_time kwh_throughput normalized_ah_throughput normalized_duration normalized_kwh_throughput start_soc start_time veh_curr_mean veh_curr_p1 veh_curr_p99 veh_curr_std\n",
      "28\n"
     ]
    },
    {
     "data": {
      "text/html": [
       "<div>\n",
       "<style scoped>\n",
       "    .dataframe tbody tr th:only-of-type {\n",
       "        vertical-align: middle;\n",
       "    }\n",
       "\n",
       "    .dataframe tbody tr th {\n",
       "        vertical-align: top;\n",
       "    }\n",
       "\n",
       "    .dataframe thead th {\n",
       "        text-align: right;\n",
       "    }\n",
       "</style>\n",
       "<table border=\"1\" class=\"dataframe\">\n",
       "  <thead>\n",
       "    <tr style=\"text-align: right;\">\n",
       "      <th></th>\n",
       "      <th>day</th>\n",
       "      <th>start_soc</th>\n",
       "      <th>end_soc</th>\n",
       "      <th>ah_throughput</th>\n",
       "      <th>delta_soc</th>\n",
       "    </tr>\n",
       "  </thead>\n",
       "  <tbody>\n",
       "    <tr>\n",
       "      <th>0</th>\n",
       "      <td>2018-07-01</td>\n",
       "      <td>19</td>\n",
       "      <td>98</td>\n",
       "      <td>94.334504</td>\n",
       "      <td>79</td>\n",
       "    </tr>\n",
       "    <tr>\n",
       "      <th>1</th>\n",
       "      <td>2018-07-01</td>\n",
       "      <td>22</td>\n",
       "      <td>98</td>\n",
       "      <td>91.076423</td>\n",
       "      <td>76</td>\n",
       "    </tr>\n",
       "  </tbody>\n",
       "</table>\n",
       "</div>"
      ],
      "text/plain": [
       "          day  start_soc  end_soc  ah_throughput  delta_soc\n",
       "0  2018-07-01         19       98      94.334504         79\n",
       "1  2018-07-01         22       98      91.076423         76"
      ]
     },
     "execution_count": 12,
     "metadata": {},
     "output_type": "execute_result"
    }
   ],
   "source": [
    "# which stats = 1: charging, 2: charging full-soc, 3: driving, 4: driving full-soc, 5: polarization\n",
    "stats = flow.get_battery_stats(which_stats=2)\n",
    "stats = pd.DataFrame(stats)\n",
    "print('Stats for {}\\n{}'.format(vin, ' '.join(stats.columns)))\n",
    "print(len(stats.columns))\n",
    "\n",
    "# Select some columns to visualize\n",
    "#stats[['day', 'normalized_ah_consumption', 'start_time', 'end_time', 'normalized_kwh_consumption', 'odometer_offset', 'count_records', 'duration', 'delta_soc']].head()#\n",
    "#stats[['day', 'normalized_ah_throughput', 'normalized_kwh_throughput', 'start_time', 'end_time', 'count_records', 'duration', 'delta_soc']].head()\n",
    "stats[['day', 'start_soc', 'end_soc', 'ah_throughput', 'delta_soc']]"
   ]
  },
  {
   "cell_type": "code",
   "execution_count": 11,
   "metadata": {
    "collapsed": false,
    "deletable": true,
    "editable": true,
    "scrolled": true
   },
   "outputs": [
    {
     "ename": "KeyError",
     "evalue": "u'the label [5] is not in the [index]'",
     "output_type": "error",
     "traceback": [
      "\u001b[0;31m---------------------------------------------------------------------------\u001b[0m",
      "\u001b[0;31mKeyError\u001b[0m                                  Traceback (most recent call last)",
      "\u001b[0;32m<ipython-input-11-928df83fa24c>\u001b[0m in \u001b[0;36m<module>\u001b[0;34m()\u001b[0m\n\u001b[1;32m     13\u001b[0m \u001b[0;31m#df = flow.trips_full_soc[period_index]\u001b[0m\u001b[0;34m\u001b[0m\u001b[0;34m\u001b[0m\u001b[0m\n\u001b[1;32m     14\u001b[0m \u001b[0;31m# Make sure stats above is for charging_full_soc or trips_full_soc, consistent with this\u001b[0m\u001b[0;34m\u001b[0m\u001b[0;34m\u001b[0m\u001b[0m\n\u001b[0;32m---> 15\u001b[0;31m \u001b[0mdelta_soc\u001b[0m \u001b[0;34m=\u001b[0m \u001b[0mnp\u001b[0m\u001b[0;34m.\u001b[0m\u001b[0mabsolute\u001b[0m\u001b[0;34m(\u001b[0m\u001b[0mstats\u001b[0m\u001b[0;34m.\u001b[0m\u001b[0mloc\u001b[0m\u001b[0;34m[\u001b[0m\u001b[0mperiod_index\u001b[0m\u001b[0;34m,\u001b[0m \u001b[0;34m'delta_soc'\u001b[0m\u001b[0;34m]\u001b[0m\u001b[0;34m)\u001b[0m\u001b[0;34m\u001b[0m\u001b[0m\n\u001b[0m\u001b[1;32m     16\u001b[0m \u001b[0;34m\u001b[0m\u001b[0m\n\u001b[1;32m     17\u001b[0m \u001b[0;34m\u001b[0m\u001b[0m\n",
      "\u001b[0;32m/usr/lib64/python2.7/site-packages/pandas/core/indexing.pyc\u001b[0m in \u001b[0;36m__getitem__\u001b[0;34m(self, key)\u001b[0m\n\u001b[1;32m   1470\u001b[0m             \u001b[0;32mexcept\u001b[0m \u001b[0;34m(\u001b[0m\u001b[0mKeyError\u001b[0m\u001b[0;34m,\u001b[0m \u001b[0mIndexError\u001b[0m\u001b[0;34m)\u001b[0m\u001b[0;34m:\u001b[0m\u001b[0;34m\u001b[0m\u001b[0m\n\u001b[1;32m   1471\u001b[0m                 \u001b[0;32mpass\u001b[0m\u001b[0;34m\u001b[0m\u001b[0m\n\u001b[0;32m-> 1472\u001b[0;31m             \u001b[0;32mreturn\u001b[0m \u001b[0mself\u001b[0m\u001b[0;34m.\u001b[0m\u001b[0m_getitem_tuple\u001b[0m\u001b[0;34m(\u001b[0m\u001b[0mkey\u001b[0m\u001b[0;34m)\u001b[0m\u001b[0;34m\u001b[0m\u001b[0m\n\u001b[0m\u001b[1;32m   1473\u001b[0m         \u001b[0;32melse\u001b[0m\u001b[0;34m:\u001b[0m\u001b[0;34m\u001b[0m\u001b[0m\n\u001b[1;32m   1474\u001b[0m             \u001b[0;31m# we by definition only have the 0th axis\u001b[0m\u001b[0;34m\u001b[0m\u001b[0;34m\u001b[0m\u001b[0m\n",
      "\u001b[0;32m/usr/lib64/python2.7/site-packages/pandas/core/indexing.pyc\u001b[0m in \u001b[0;36m_getitem_tuple\u001b[0;34m(self, tup)\u001b[0m\n\u001b[1;32m    868\u001b[0m     \u001b[0;32mdef\u001b[0m \u001b[0m_getitem_tuple\u001b[0m\u001b[0;34m(\u001b[0m\u001b[0mself\u001b[0m\u001b[0;34m,\u001b[0m \u001b[0mtup\u001b[0m\u001b[0;34m)\u001b[0m\u001b[0;34m:\u001b[0m\u001b[0;34m\u001b[0m\u001b[0m\n\u001b[1;32m    869\u001b[0m         \u001b[0;32mtry\u001b[0m\u001b[0;34m:\u001b[0m\u001b[0;34m\u001b[0m\u001b[0m\n\u001b[0;32m--> 870\u001b[0;31m             \u001b[0;32mreturn\u001b[0m \u001b[0mself\u001b[0m\u001b[0;34m.\u001b[0m\u001b[0m_getitem_lowerdim\u001b[0m\u001b[0;34m(\u001b[0m\u001b[0mtup\u001b[0m\u001b[0;34m)\u001b[0m\u001b[0;34m\u001b[0m\u001b[0m\n\u001b[0m\u001b[1;32m    871\u001b[0m         \u001b[0;32mexcept\u001b[0m \u001b[0mIndexingError\u001b[0m\u001b[0;34m:\u001b[0m\u001b[0;34m\u001b[0m\u001b[0m\n\u001b[1;32m    872\u001b[0m             \u001b[0;32mpass\u001b[0m\u001b[0;34m\u001b[0m\u001b[0m\n",
      "\u001b[0;32m/usr/lib64/python2.7/site-packages/pandas/core/indexing.pyc\u001b[0m in \u001b[0;36m_getitem_lowerdim\u001b[0;34m(self, tup)\u001b[0m\n\u001b[1;32m    996\u001b[0m         \u001b[0;32mfor\u001b[0m \u001b[0mi\u001b[0m\u001b[0;34m,\u001b[0m \u001b[0mkey\u001b[0m \u001b[0;32min\u001b[0m \u001b[0menumerate\u001b[0m\u001b[0;34m(\u001b[0m\u001b[0mtup\u001b[0m\u001b[0;34m)\u001b[0m\u001b[0;34m:\u001b[0m\u001b[0;34m\u001b[0m\u001b[0m\n\u001b[1;32m    997\u001b[0m             \u001b[0;32mif\u001b[0m \u001b[0mis_label_like\u001b[0m\u001b[0;34m(\u001b[0m\u001b[0mkey\u001b[0m\u001b[0;34m)\u001b[0m \u001b[0;32mor\u001b[0m \u001b[0misinstance\u001b[0m\u001b[0;34m(\u001b[0m\u001b[0mkey\u001b[0m\u001b[0;34m,\u001b[0m \u001b[0mtuple\u001b[0m\u001b[0;34m)\u001b[0m\u001b[0;34m:\u001b[0m\u001b[0;34m\u001b[0m\u001b[0m\n\u001b[0;32m--> 998\u001b[0;31m                 \u001b[0msection\u001b[0m \u001b[0;34m=\u001b[0m \u001b[0mself\u001b[0m\u001b[0;34m.\u001b[0m\u001b[0m_getitem_axis\u001b[0m\u001b[0;34m(\u001b[0m\u001b[0mkey\u001b[0m\u001b[0;34m,\u001b[0m \u001b[0maxis\u001b[0m\u001b[0;34m=\u001b[0m\u001b[0mi\u001b[0m\u001b[0;34m)\u001b[0m\u001b[0;34m\u001b[0m\u001b[0m\n\u001b[0m\u001b[1;32m    999\u001b[0m \u001b[0;34m\u001b[0m\u001b[0m\n\u001b[1;32m   1000\u001b[0m                 \u001b[0;31m# we have yielded a scalar ?\u001b[0m\u001b[0;34m\u001b[0m\u001b[0;34m\u001b[0m\u001b[0m\n",
      "\u001b[0;32m/usr/lib64/python2.7/site-packages/pandas/core/indexing.pyc\u001b[0m in \u001b[0;36m_getitem_axis\u001b[0;34m(self, key, axis)\u001b[0m\n\u001b[1;32m   1909\u001b[0m \u001b[0;34m\u001b[0m\u001b[0m\n\u001b[1;32m   1910\u001b[0m         \u001b[0;31m# fall thru to straight lookup\u001b[0m\u001b[0;34m\u001b[0m\u001b[0;34m\u001b[0m\u001b[0m\n\u001b[0;32m-> 1911\u001b[0;31m         \u001b[0mself\u001b[0m\u001b[0;34m.\u001b[0m\u001b[0m_validate_key\u001b[0m\u001b[0;34m(\u001b[0m\u001b[0mkey\u001b[0m\u001b[0;34m,\u001b[0m \u001b[0maxis\u001b[0m\u001b[0;34m)\u001b[0m\u001b[0;34m\u001b[0m\u001b[0m\n\u001b[0m\u001b[1;32m   1912\u001b[0m         \u001b[0;32mreturn\u001b[0m \u001b[0mself\u001b[0m\u001b[0;34m.\u001b[0m\u001b[0m_get_label\u001b[0m\u001b[0;34m(\u001b[0m\u001b[0mkey\u001b[0m\u001b[0;34m,\u001b[0m \u001b[0maxis\u001b[0m\u001b[0;34m=\u001b[0m\u001b[0maxis\u001b[0m\u001b[0;34m)\u001b[0m\u001b[0;34m\u001b[0m\u001b[0m\n\u001b[1;32m   1913\u001b[0m \u001b[0;34m\u001b[0m\u001b[0m\n",
      "\u001b[0;32m/usr/lib64/python2.7/site-packages/pandas/core/indexing.pyc\u001b[0m in \u001b[0;36m_validate_key\u001b[0;34m(self, key, axis)\u001b[0m\n\u001b[1;32m   1796\u001b[0m                 \u001b[0;32mraise\u001b[0m\u001b[0;34m\u001b[0m\u001b[0m\n\u001b[1;32m   1797\u001b[0m             \u001b[0;32mexcept\u001b[0m\u001b[0;34m:\u001b[0m\u001b[0;34m\u001b[0m\u001b[0m\n\u001b[0;32m-> 1798\u001b[0;31m                 \u001b[0merror\u001b[0m\u001b[0;34m(\u001b[0m\u001b[0;34m)\u001b[0m\u001b[0;34m\u001b[0m\u001b[0m\n\u001b[0m\u001b[1;32m   1799\u001b[0m \u001b[0;34m\u001b[0m\u001b[0m\n\u001b[1;32m   1800\u001b[0m     \u001b[0;32mdef\u001b[0m \u001b[0m_is_scalar_access\u001b[0m\u001b[0;34m(\u001b[0m\u001b[0mself\u001b[0m\u001b[0;34m,\u001b[0m \u001b[0mkey\u001b[0m\u001b[0;34m)\u001b[0m\u001b[0;34m:\u001b[0m\u001b[0;34m\u001b[0m\u001b[0m\n",
      "\u001b[0;32m/usr/lib64/python2.7/site-packages/pandas/core/indexing.pyc\u001b[0m in \u001b[0;36merror\u001b[0;34m()\u001b[0m\n\u001b[1;32m   1783\u001b[0m                 raise KeyError(u\"the label [{key}] is not in the [{axis}]\"\n\u001b[1;32m   1784\u001b[0m                                .format(key=key,\n\u001b[0;32m-> 1785\u001b[0;31m                                        axis=self.obj._get_axis_name(axis)))\n\u001b[0m\u001b[1;32m   1786\u001b[0m \u001b[0;34m\u001b[0m\u001b[0m\n\u001b[1;32m   1787\u001b[0m             \u001b[0;32mtry\u001b[0m\u001b[0;34m:\u001b[0m\u001b[0;34m\u001b[0m\u001b[0m\n",
      "\u001b[0;31mKeyError\u001b[0m: u'the label [5] is not in the [index]'"
     ]
    }
   ],
   "source": [
    "import trip_based_stats.battery_stats as battery_stats\n",
    "import common.missing_data as md\n",
    "\n",
    "def print_ct(x):\n",
    "    print( 'Ah charged {}, discharged {}, throughput {}, consumption {}'.format(x[0], x[1], x[2], x[3]))\n",
    "    y = x / delta_soc * 100\n",
    "    print( 'Normalized Ah charged {}, discharged {}, throughput {}, consumption {}'.format(y[0], y[1], y[2], y[3]))\n",
    "\n",
    "    \n",
    "period_index = 5\n",
    "#df = flow.charging_full_soc_periods[period_index]\n",
    "df = flow.charging_periods[period_index]\n",
    "#df = flow.trips_full_soc[period_index]\n",
    "# Make sure stats above is for charging_full_soc or trips_full_soc, consistent with this\n",
    "delta_soc = np.absolute(stats.loc[period_index, 'delta_soc'])\n",
    "\n",
    "\n",
    "# For trips\n",
    "#negative_slope=True\n",
    "#slope_limit = -0.0005\n",
    "# For charging\n",
    "negative_slope=False\n",
    "slope_limit = 0.001\n",
    "\n",
    "cols = ['ts', 'veh_curr', 'veh_volt', 'veh_soc']\n",
    "df2 = df[cols].copy()\n",
    "\n",
    "# Remove 0.0 entries\n",
    "df2 = df2.query('veh_curr != 0').copy()\n",
    "\n",
    "printmd('# vin {}, day {}'.format(vin, day))\n",
    "printmd('## No corrections')\n",
    "printmd('** Integration by sum, without correction **')\n",
    "x_by_sum = battery_stats.get_energy_n_capacity_bysum(df2, option=4)\n",
    "print_ct(x_by_sum)\n",
    "\n",
    "printmd('## Compensating missing SOC')\n",
    "printmd('** Integration by sum, compensate missing SOC **')\n",
    "compensated = md.compensate_missing_soc(df2['veh_soc'], x_by_sum)\n",
    "print_ct(compensated)\n",
    "          \n",
    "printmd('## Compensating missing time with fixed offset of 120s')\n",
    "df3 = md.treat_missing_data(df2, offset_seconds=120,\n",
    "slope_limit=slope_limit, negative_slope=negative_slope)\n",
    "real_duration = df3.index[-1]\n",
    "data_duration = len(df2) * 10\n",
    "# Note df3 has corrected time index, df2 is the original dataset without corrections\n",
    "print('Total duration {}s with missing time (jumps) {}s'.format(real_duration, real_duration - data_duration))          \n",
    "\n",
    "printmd('** Integration by sum, compensate missing time, fixed offset **')\n",
    "compensated = md.compensate_missing_data(real_duration, data_duration, x_by_sum)\n",
    "print_ct(compensated)\n",
    "printmd('** Integration by quadrature and interpolate missing data, fixed offset **')\n",
    "x_by_int = battery_stats.get_energy_n_capacity(df3, option=4)\n",
    "print_ct(x_by_int)\n",
    "\n",
    "printmd('## Compensating missing time with current-dependent threshold')\n",
    "df3 = md.treat_missing_data_current_dependent_threshold(df2, threshold_factor=2.5,\n",
    "        negative_slope=negative_slope)\n",
    "\n",
    "real_duration = df3.index[-1]\n",
    "data_duration = len(df2) * 10\n",
    "# Note df3 has corrected time index, df2 is the original dataset without corrections\n",
    "print('Total duration {}s with missing time (jumps) {}s'.format(real_duration, real_duration - data_duration))          \n",
    "\n",
    "printmd('** Integration by sum, compensate missing time, current-dependent threshold **')\n",
    "compensated = md.compensate_missing_data(real_duration, data_duration, x_by_sum)\n",
    "\n",
    "print_ct(compensated)\n",
    "printmd('** Integration by quadrature and interpolate missing data, current-dependent threshold **')\n",
    "x_by_int = battery_stats.get_energy_n_capacity(df3, option=4)\n",
    "print_ct(x_by_int)\n",
    "\n"
   ]
  },
  {
   "cell_type": "code",
   "execution_count": null,
   "metadata": {
    "collapsed": true,
    "deletable": true,
    "editable": true
   },
   "outputs": [],
   "source": [
    "sns.set(rc={\"figure.figsize\": (15, 7)})\n",
    "sns.set_context('talk')\n",
    "\n",
    "df2['power'] = df2['veh_curr'] * df2['veh_volt']\n",
    "\n",
    "\n",
    "fig, ax = plt.subplots(3)\n",
    "\n",
    "ax[0].plot(df2['power'], 'o-')\n",
    "ax[1].plot(df2['veh_curr'], 'o-')\n",
    "ax[2].plot(df2['veh_volt'], 'o-')\n",
    "\n",
    "\n",
    "ax[0].set_ylabel('Power (W)')\n",
    "ax[1].set_ylabel('Current (A)')\n",
    "ax[2].set_ylabel('Voltage (V)')\n",
    "\n",
    "plt.setp(ax[0].get_xticklabels(), visible=False)\n",
    "plt.setp(ax[1].get_xticklabels(), visible=False)\n",
    "\n",
    "sns.despine()\n"
   ]
  },
  {
   "cell_type": "code",
   "execution_count": null,
   "metadata": {
    "collapsed": true,
    "deletable": true,
    "editable": true
   },
   "outputs": [],
   "source": [
    "sns.set(rc={\"figure.figsize\": (15, 7)})\n",
    "sns.set_context('talk')\n",
    "\n",
    "df3['power'] = df3['veh_curr'] * df3['veh_volt']\n",
    "\n",
    "\n",
    "fig, ax = plt.subplots(3)\n",
    "\n",
    "ax[0].plot(df3['power'], 'o-')\n",
    "ax[1].plot(df3['veh_curr'], 'o-')\n",
    "ax[2].plot(df3['veh_volt'], 'o-')\n",
    "\n",
    "\n",
    "ax[0].set_ylabel('Power (W)')\n",
    "ax[1].set_ylabel('Current (A)')\n",
    "ax[2].set_ylabel('Voltage (V)')\n",
    "\n",
    "plt.setp(ax[0].get_xticklabels(), visible=False)\n",
    "plt.setp(ax[1].get_xticklabels(), visible=False)\n",
    "\n",
    "sns.despine()"
   ]
  },
  {
   "cell_type": "code",
   "execution_count": null,
   "metadata": {
    "collapsed": true,
    "deletable": true,
    "editable": true
   },
   "outputs": [],
   "source": [
    "# Close session\n",
    "sc.stop()"
   ]
  },
  {
   "cell_type": "code",
   "execution_count": null,
   "metadata": {
    "collapsed": true,
    "deletable": true,
    "editable": true
   },
   "outputs": [],
   "source": [
    "df3.iloc[:3].veh_soc"
   ]
  },
  {
   "cell_type": "code",
   "execution_count": null,
   "metadata": {
    "collapsed": true,
    "deletable": true,
    "editable": true
   },
   "outputs": [],
   "source": []
  }
 ],
 "metadata": {
  "kernelspec": {
   "display_name": "Python 3",
   "language": "python",
   "name": "python3"
  },
  "language_info": {
   "codemirror_mode": {
    "name": "ipython",
    "version": 3
   },
   "file_extension": ".py",
   "mimetype": "text/x-python",
   "name": "python",
   "nbconvert_exporter": "python",
   "pygments_lexer": "ipython3",
   "version": "3.5.2"
  }
 },
 "nbformat": 4,
 "nbformat_minor": 2
}
