{
 "cells": [
  {
   "cell_type": "markdown",
   "metadata": {},
   "source": [
    "Notes:\n",
    "1. 20160522, 20160523, 20160527 has mixed line length\n",
    "2. 20150522, 20150523, 20150524, 20160528, 20170905 does not exist"
   ]
  },
  {
   "cell_type": "markdown",
   "metadata": {},
   "source": [
    "## start pyspark session and import"
   ]
  },
  {
   "cell_type": "code",
   "execution_count": 1,
   "metadata": {},
   "outputs": [],
   "source": [
    "from vehicle import *\n",
    "import findspark\n",
    "# findspark.init('/home/stang/myenv/lib/python2.7/site-packages/pyspark')\n",
    "findspark.init(\"/usr/hdp/current/spark2-client\")\n",
    "import pyspark\n",
    "from pyspark.sql import SparkSession\n",
    "from pyspark.sql import SQLContext"
   ]
  },
  {
   "cell_type": "raw",
   "metadata": {},
   "source": [
    "# Build the SparkSession\n",
    "spark = SparkSession.builder \\\n",
    "   .master(\"local\") \\\n",
    "   .appName(\"pyspark_app\") \\\n",
    "   .config(\"spark.executor.memory\", \"1gb\") \\\n",
    "   .getOrCreate()\n",
    "   \n",
    "sc = spark.sparkContext\n",
    "sc.getConf().getAll()"
   ]
  },
  {
   "cell_type": "code",
   "execution_count": 2,
   "metadata": {
    "scrolled": false
   },
   "outputs": [
    {
     "data": {
      "text/html": [
       "\n",
       "        <div>\n",
       "            <p><b>SparkContext</b></p>\n",
       "\n",
       "            <p><a href=\"http://172.15.7.170:4040\">Spark UI</a></p>\n",
       "\n",
       "            <dl>\n",
       "              <dt>Version</dt>\n",
       "                <dd><code>v2.2.0.2.6.3.0-235</code></dd>\n",
       "              <dt>Master</dt>\n",
       "                <dd><code>yarn</code></dd>\n",
       "              <dt>AppName</dt>\n",
       "                <dd><code>daily_stats_run</code></dd>\n",
       "            </dl>\n",
       "        </div>\n",
       "        "
      ],
      "text/plain": [
       "<SparkContext master=yarn appName=daily_stats_run>"
      ]
     },
     "execution_count": 2,
     "metadata": {},
     "output_type": "execute_result"
    }
   ],
   "source": [
    "conf = pyspark.SparkConf().setAll([('spark.app.name', 'daily_stats_run'), # App Name\n",
    "                                 ('spark.master', 'yarn'),              # spark run mode: locally or remotely\n",
    "                                 ('spark.submit.deployMode', 'client'), # deploy in yarn-client or yarn-cluster\n",
    "                                 ('spark.executor.memory', '4g'),       # memory allocated for each executor\n",
    "                                 ('spark.executor.cores', '3'),         # number of cores for each executor\n",
    "                                 ('spark.executor.instances', '80'),    # number of executors in total\n",
    "                                 ('spark.yarn.am.memory','20g')])       # memory for spark driver\n",
    "# sc.stop()\n",
    "sc = pyspark.SparkContext(conf=conf)\n",
    "sc.addPyFile('/home/stang/user-profile/stats-spark/veh.zip')\n",
    "sc.getConf().getAll()\n",
    "sc"
   ]
  },
  {
   "cell_type": "markdown",
   "metadata": {},
   "source": [
    "## Examine new data sources"
   ]
  },
  {
   "cell_type": "raw",
   "metadata": {
    "scrolled": true
   },
   "source": [
    "sqlContext = SQLContext(sc)\n",
    "df = sqlContext.read.parquet('part-02132-04d59ab4-caa0-4f33-b507-afbb15b65a77-c000.snappy.parquet').toPandas()\n",
    "# df = sqlContext.read.parquet('part-00000-02b566b1-c09f-484e-a8f1-0de30eee8801.c000.snappy.parquet').toPandas()"
   ]
  },
  {
   "cell_type": "raw",
   "metadata": {},
   "source": [
    "df.to_csv('temp.csv')\n",
    "df['ts'] = pd.to_datetime(df['ts'], unit='ms', utc='True').dt.tz_convert('Asia/Hong_Kong')"
   ]
  },
  {
   "cell_type": "raw",
   "metadata": {
    "scrolled": false
   },
   "source": [
    "df.shape, df.columns"
   ]
  },
  {
   "cell_type": "markdown",
   "metadata": {},
   "source": [
    "## get daily result"
   ]
  },
  {
   "cell_type": "code",
   "execution_count": 3,
   "metadata": {},
   "outputs": [],
   "source": [
    "col_dict = {1: 'TDATE', 15: 'CCS_CHARGEVOLT', 59: 'BCS_VEHSPD', 60: 'ICM_TOTALODOMETER'}\n",
    "def transform_to_tuple(line):\n",
    "    fields = line.split(\",\")\n",
    "    vin = fields[0]\n",
    "    otherfields = {}\n",
    "    for col_index, col in col_dict.items():\n",
    "        this_value = fields[int(col_index)]\n",
    "        otherfields[col] = this_value\n",
    "    return vin, otherfields\n",
    "\n",
    "def compute_stats(x):\n",
    "    df = pd.DataFrame(list(x[1]))\n",
    "    df['VIN'] = x[0]\n",
    "    \n",
    "    stats = ['average_speed', 'miles_driven', 'charging_hours']\n",
    "    freqs = ['hourly', 'daily']\n",
    "\n",
    "    veh = Vehicle(df, list(df.columns))\n",
    "    attributes = veh.get_attributes()\n",
    "    res = veh.get_stats(stats, freqs, save_to_csv=False, save_to_json=False)\n",
    "    return attributes['vin'], res"
   ]
  },
  {
   "cell_type": "code",
   "execution_count": 5,
   "metadata": {},
   "outputs": [],
   "source": [
    "import subprocess\n",
    "def run_cmd(args_list):\n",
    "#     print('Running system command: {0}'.format(' '.join(args_list)))\n",
    "    proc = subprocess.Popen(args_list, stdout=subprocess.PIPE, stderr=subprocess.PIPE)\n",
    "    s_output, s_err = proc.communicate()\n",
    "    s_return =  proc.returncode\n",
    "    return s_return, s_output, s_err \n",
    "\n",
    "(ret, out, err)= run_cmd(['hdfs', 'dfs', '-ls', '/data/ag/by-day/'])\n",
    "lines = out.split('\\n')"
   ]
  },
  {
   "cell_type": "code",
   "execution_count": 6,
   "metadata": {},
   "outputs": [
    {
     "data": {
      "text/plain": [
       "(1097,\n",
       " ['hdfs://namenode:8020/data/ag/by-day/ag_20150118.csv',\n",
       "  'hdfs://namenode:8020/data/ag/by-day/ag_20150119.csv'])"
      ]
     },
     "execution_count": 6,
     "metadata": {},
     "output_type": "execute_result"
    }
   ],
   "source": [
    "files = ['hdfs://namenode:8020' + line.split()[-1] for line in lines[1:-1]]\n",
    "len(files), files[:2]"
   ]
  },
  {
   "cell_type": "code",
   "execution_count": 7,
   "metadata": {},
   "outputs": [],
   "source": [
    "def get_daily_stats(data_file, save_to_json=True):\n",
    "    rdd = sc.textFile(data_file).filter(lambda line: len(line.split(',')) == 86)\n",
    "    res = rdd.map(transform_to_tuple).groupByKey().map(compute_stats).collect()  # new\n",
    "    res = OrderedDict(res)\n",
    "    if save_to_json:\n",
    "        curr_date = data_file.split('/')[-1].split('_')[-1].split('.')[0]\n",
    "        json_file = 'ag_stats_{}.json'.format(curr_date)\n",
    "        with open(json_file, 'w') as jsonf:\n",
    "            json.dump(res, jsonf)\n",
    "    print(data_file + ' done.')"
   ]
  },
  {
   "cell_type": "raw",
   "metadata": {},
   "source": [
    "%%time\n",
    "get_daily_stats('hdfs://namenode:8020/data/ag/by-day/ag_20160527.csv')"
   ]
  },
  {
   "cell_type": "raw",
   "metadata": {},
   "source": [
    "for f in files:\n",
    "    get_daily_stats(f)"
   ]
  },
  {
   "cell_type": "raw",
   "metadata": {
    "scrolled": true
   },
   "source": [
    "%%time\n",
    "#3Mb\n",
    "get_daily_stats('hdfs://namenode:8020/data/ag/by-day/ag_20150118.csv')\n",
    "print(run_cmd(['wc', '-l', '/gaei/gacrnd/data/ag_by_day/ag_20150118.csv']))"
   ]
  },
  {
   "cell_type": "raw",
   "metadata": {
    "scrolled": true
   },
   "source": [
    "%%time\n",
    "#10Mb\n",
    "get_daily_stats('hdfs://namenode:8020/data/ag/by-day/ag_20150302.csv')\n",
    "print(run_cmd(['wc', '-l', '/gaei/gacrnd/data/ag_by_day/ag_20150302.csv']))"
   ]
  },
  {
   "cell_type": "raw",
   "metadata": {
    "scrolled": false
   },
   "source": [
    "%%time\n",
    "#100M\n",
    "get_daily_stats('hdfs://namenode:8020/data/ag/by-day/ag_20150427.csv')\n",
    "print(run_cmd(['wc', '-l', '/gaei/gacrnd/data/ag_by_day/ag_20150427.csv']))"
   ]
  },
  {
   "cell_type": "raw",
   "metadata": {},
   "source": [
    "%%time\n",
    "# 500Mb\n",
    "get_daily_stats('hdfs://namenode:8020/data/ag/by-day/ag_20160221.csv')\n",
    "print(run_cmd(['wc', '-l', '/gaei/gacrnd/data/ag_by_day/ag_20160221.csv']))"
   ]
  },
  {
   "cell_type": "code",
   "execution_count": 8,
   "metadata": {
    "scrolled": false
   },
   "outputs": [
    {
     "name": "stdout",
     "output_type": "stream",
     "text": [
      "hdfs://namenode:8020/data/ag/by-day/ag_20170728.csv done.\n",
      "CPU times: user 2.57 s, sys: 62.3 ms, total: 2.64 s\n",
      "Wall time: 1min 18s\n"
     ]
    }
   ],
   "source": [
    "%%time\n",
    "# 2.9Gb\n",
    "get_daily_stats('hdfs://namenode:8020/data/ag/by-day/ag_20170728.csv')\n",
    "# print(run_cmd(['wc', '-l', '/gaei/gacrnd/data/ag_by_day/ag_20170728.csv']))"
   ]
  },
  {
   "cell_type": "markdown",
   "metadata": {},
   "source": [
    "## merge daily result"
   ]
  },
  {
   "cell_type": "code",
   "execution_count": 9,
   "metadata": {},
   "outputs": [],
   "source": [
    "def generate_stat_json_for_first_day():\n",
    "    in_file = 'ag_stats_20150118.json'\n",
    "    out_file = 'res_ag_stats_20150118.json'\n",
    "    time_label = '2015-1'\n",
    "    with open(in_file, 'r') as inf:\n",
    "        x = OrderedDict(json.load(inf))\n",
    "    for vin in x.keys():\n",
    "        x_stats = x[vin]\n",
    "        for stat in ['average_speed_monthly', 'miles_driven_monthly', 'charging_hours_monthly']:\n",
    "            daily_stat = stat.replace('monthly', 'daily')\n",
    "            x_stats[stat] = []\n",
    "            val_to_append = x_stats[daily_stat][-1][1]\n",
    "            x_stats[stat].append((time_label, val_to_append))\n",
    "    with open(out_file, 'w') as outf:\n",
    "        json.dump(x, outf)\n",
    "generate_stat_json_for_first_day()"
   ]
  },
  {
   "cell_type": "code",
   "execution_count": 10,
   "metadata": {},
   "outputs": [],
   "source": [
    "def merge(old_file, new_file, out_file):\n",
    "#     print('old file: {}, new file: {}, output to {}'.format(old_file, new_file, out_file))\n",
    "    def weighted_average(a, b):\n",
    "        if np.isnan(a[0]) and np.isnan(b[0]):\n",
    "            return (np.nan, 0)\n",
    "        if a[0] == 0:\n",
    "            a[1] = 1\n",
    "        if b[0] == 0:\n",
    "            b[1] = 1\n",
    "        \n",
    "        count = a[1] + b[1]\n",
    "        avg = np.nansum([a[0]*a[1], b[0]*b[1]]) / count\n",
    "        return (avg, count)\n",
    "\n",
    "    def sum_two_num(a, b):\n",
    "        if np.isnan(a) and np.isnan(b):\n",
    "            return np.nan\n",
    "        return np.nansum([a, b]) # treat nan as zero\n",
    "\n",
    "    with open(old_file, 'r') as oldf, open(new_file, 'r') as newf:\n",
    "        x = OrderedDict(json.load(oldf))\n",
    "        y = OrderedDict(json.load(newf))\n",
    "    allvins = list(set().union(x.keys(), y.keys()))\n",
    "    date = new_file.split('.')[0].split('_')[-1]\n",
    "    time_label = convert_time_label_to_str(pd.to_datetime(date).tz_localize('Asia/Hong_Kong'), 'monthly')\n",
    "    for vin in allvins:\n",
    "        if vin in x.keys() and vin not in y.keys():\n",
    "            # append null result\n",
    "            x_stats = x[vin]\n",
    "            for stat, val in x_stats.iteritems():\n",
    "                tl = []  # time labels to append\n",
    "                freq = stat.split('_')[-1]\n",
    "                last_timestamp = pd.to_datetime(val[-1][0]).tz_localize('Asia/Hong_Kong')\n",
    "                if (freq == 'daily') or (freq == 'monthly' and date[-2:] == '01'):\n",
    "                    tmp = next_time_label(last_timestamp, freq)  # output format: timestamp\n",
    "                    tl.append(convert_time_label_to_str(tmp, freq))\n",
    "                elif freq == 'hourly':\n",
    "                    for i in range(24):\n",
    "                        tmp = next_time_label(last_timestamp, freq)\n",
    "                        tl.append(convert_time_label_to_str(tmp, freq))\n",
    "                        last_timestamp = tmp\n",
    "                for time_label in tl:\n",
    "                    val_to_append = (np.nan, 0) if 'average_speed' in stat else np.nan\n",
    "                    val.append((time_label, val_to_append))\n",
    "        elif vin not in x.keys() and vin in y.keys():\n",
    "            # copy daily result\n",
    "            x[vin] = y[vin]\n",
    "            # add monthly stat, monthly stats will be the same with daily stats\n",
    "            x_stats = x[vin]\n",
    "            for stat in ['average_speed_monthly', 'miles_driven_monthly', 'charging_hours_monthly']:\n",
    "                daily_stat = stat.replace('monthly', 'daily')\n",
    "                x_stats[stat] = []\n",
    "                val_to_append = x_stats[daily_stat][-1][1]\n",
    "                x_stats[stat].append((time_label, val_to_append))\n",
    "        else:  # in both x and y\n",
    "            x_stats = x[vin]\n",
    "            y_stats = y[vin]\n",
    "            for stat, val in x_stats.iteritems():\n",
    "                # extend daily stats and hourly stats\n",
    "                if 'monthly' not in stat:\n",
    "                    val.extend(y_stats[stat])\n",
    "                    continue\n",
    "                # for monthly, if this is first day of month, monthly stats will be the same with daily stats\n",
    "                daily_stat = stat.replace('monthly', 'daily')\n",
    "                if date[-2:] == '01':\n",
    "                    val.append((time_label, y_stats[daily_stat][-1][1]))\n",
    "                    continue\n",
    "                # if not first day of month, then recalculate monthly stats\n",
    "                if 'average_speed' not in stat:\n",
    "                    val[-1][1] = sum_two_num(val[-1][1], y_stats[daily_stat][-1][1])\n",
    "                else:\n",
    "                    val[-1][1] = weighted_average(val[-1][1], y_stats[daily_stat][-1][1])\n",
    "    \n",
    "    with open(out_file, 'w') as jsonf:\n",
    "        json.dump(x, jsonf)\n",
    "    return x"
   ]
  },
  {
   "cell_type": "code",
   "execution_count": null,
   "metadata": {},
   "outputs": [],
   "source": [
    "%%time\n",
    "old_file = 'res_ag_stats_20150118.json'\n",
    "stats_files = sorted([f for f in os.listdir('.') if 'ag_stats_' in f and '.json' in f])\n",
    "for f in stats_files[1:]:\n",
    "    date = f.split('.')[0].split('_')[-1]\n",
    "    out_file = 'res_ag_stats_' + date + '.json'\n",
    "    merge(old_file, f, out_file)\n",
    "    old_file = out_file"
   ]
  }
 ],
 "metadata": {
  "kernelspec": {
   "display_name": "Python 2",
   "language": "python",
   "name": "python2"
  },
  "language_info": {
   "codemirror_mode": {
    "name": "ipython",
    "version": 2
   },
   "file_extension": ".py",
   "mimetype": "text/x-python",
   "name": "python",
   "nbconvert_exporter": "python",
   "pygments_lexer": "ipython2",
   "version": "2.7.5"
  }
 },
 "nbformat": 4,
 "nbformat_minor": 2
}
